{
 "cells": [
  {
   "cell_type": "code",
   "execution_count": 1,
   "id": "4b276e52-9bc2-4428-9a0f-241da45e92b8",
   "metadata": {},
   "outputs": [
    {
     "name": "stdout",
     "output_type": "stream",
     "text": [
      "Requirement already satisfied: pandas in c:\\users\\abc\\anaconda3\\lib\\site-packages (2.1.4)\n",
      "Requirement already satisfied: numpy<2,>=1.23.2 in c:\\users\\abc\\anaconda3\\lib\\site-packages (from pandas) (1.26.4)\n",
      "Requirement already satisfied: python-dateutil>=2.8.2 in c:\\users\\abc\\anaconda3\\lib\\site-packages (from pandas) (2.8.2)\n",
      "Requirement already satisfied: pytz>=2020.1 in c:\\users\\abc\\anaconda3\\lib\\site-packages (from pandas) (2023.3.post1)\n",
      "Requirement already satisfied: tzdata>=2022.1 in c:\\users\\abc\\anaconda3\\lib\\site-packages (from pandas) (2023.3)\n",
      "Requirement already satisfied: six>=1.5 in c:\\users\\abc\\anaconda3\\lib\\site-packages (from python-dateutil>=2.8.2->pandas) (1.16.0)\n",
      "Note: you may need to restart the kernel to use updated packages.\n"
     ]
    }
   ],
   "source": [
    "pip install pandas"
   ]
  },
  {
   "cell_type": "code",
   "execution_count": 2,
   "id": "c1ab797a-33a8-48b6-acdb-f8a4bfa98f53",
   "metadata": {},
   "outputs": [],
   "source": [
    "import pandas as pd"
   ]
  },
  {
   "cell_type": "markdown",
   "id": "2b28a2ac-d5e6-4a4c-9afb-addd757e95c8",
   "metadata": {},
   "source": [
    "**1.Top 5 rows of the Dataset.**"
   ]
  },
  {
   "cell_type": "code",
   "execution_count": 3,
   "id": "4ecc9e38-e2bd-4d83-af33-b463123899a1",
   "metadata": {},
   "outputs": [
    {
     "data": {
      "text/html": [
       "<div>\n",
       "<style scoped>\n",
       "    .dataframe tbody tr th:only-of-type {\n",
       "        vertical-align: middle;\n",
       "    }\n",
       "\n",
       "    .dataframe tbody tr th {\n",
       "        vertical-align: top;\n",
       "    }\n",
       "\n",
       "    .dataframe thead th {\n",
       "        text-align: right;\n",
       "    }\n",
       "</style>\n",
       "<table border=\"1\" class=\"dataframe\">\n",
       "  <thead>\n",
       "    <tr style=\"text-align: right;\">\n",
       "      <th></th>\n",
       "      <th>Row ID</th>\n",
       "      <th>Order ID</th>\n",
       "      <th>Order Date</th>\n",
       "      <th>Ship Date</th>\n",
       "      <th>Ship Mode</th>\n",
       "      <th>Customer ID</th>\n",
       "      <th>Customer Name</th>\n",
       "      <th>Segment</th>\n",
       "      <th>Country</th>\n",
       "      <th>City</th>\n",
       "      <th>State</th>\n",
       "      <th>Postal Code</th>\n",
       "      <th>Region</th>\n",
       "      <th>Product ID</th>\n",
       "      <th>Category</th>\n",
       "      <th>Sub-Category</th>\n",
       "      <th>Product Name</th>\n",
       "      <th>Sales</th>\n",
       "    </tr>\n",
       "  </thead>\n",
       "  <tbody>\n",
       "    <tr>\n",
       "      <th>0</th>\n",
       "      <td>1</td>\n",
       "      <td>CA-2017-152156</td>\n",
       "      <td>08/11/2017</td>\n",
       "      <td>11/11/2017</td>\n",
       "      <td>Second Class</td>\n",
       "      <td>CG-12520</td>\n",
       "      <td>Claire Gute</td>\n",
       "      <td>Consumer</td>\n",
       "      <td>United States</td>\n",
       "      <td>Henderson</td>\n",
       "      <td>Kentucky</td>\n",
       "      <td>42420.0</td>\n",
       "      <td>South</td>\n",
       "      <td>FUR-BO-10001798</td>\n",
       "      <td>Furniture</td>\n",
       "      <td>Bookcases</td>\n",
       "      <td>Bush Somerset Collection Bookcase</td>\n",
       "      <td>261.9600</td>\n",
       "    </tr>\n",
       "    <tr>\n",
       "      <th>1</th>\n",
       "      <td>2</td>\n",
       "      <td>CA-2017-152156</td>\n",
       "      <td>08/11/2017</td>\n",
       "      <td>11/11/2017</td>\n",
       "      <td>Second Class</td>\n",
       "      <td>CG-12520</td>\n",
       "      <td>Claire Gute</td>\n",
       "      <td>Consumer</td>\n",
       "      <td>United States</td>\n",
       "      <td>Henderson</td>\n",
       "      <td>Kentucky</td>\n",
       "      <td>42420.0</td>\n",
       "      <td>South</td>\n",
       "      <td>FUR-CH-10000454</td>\n",
       "      <td>Furniture</td>\n",
       "      <td>Chairs</td>\n",
       "      <td>Hon Deluxe Fabric Upholstered Stacking Chairs,...</td>\n",
       "      <td>731.9400</td>\n",
       "    </tr>\n",
       "    <tr>\n",
       "      <th>2</th>\n",
       "      <td>3</td>\n",
       "      <td>CA-2017-138688</td>\n",
       "      <td>12/06/2017</td>\n",
       "      <td>16/06/2017</td>\n",
       "      <td>Second Class</td>\n",
       "      <td>DV-13045</td>\n",
       "      <td>Darrin Van Huff</td>\n",
       "      <td>Corporate</td>\n",
       "      <td>United States</td>\n",
       "      <td>Los Angeles</td>\n",
       "      <td>California</td>\n",
       "      <td>90036.0</td>\n",
       "      <td>West</td>\n",
       "      <td>OFF-LA-10000240</td>\n",
       "      <td>Office Supplies</td>\n",
       "      <td>Labels</td>\n",
       "      <td>Self-Adhesive Address Labels for Typewriters b...</td>\n",
       "      <td>14.6200</td>\n",
       "    </tr>\n",
       "    <tr>\n",
       "      <th>3</th>\n",
       "      <td>4</td>\n",
       "      <td>US-2016-108966</td>\n",
       "      <td>11/10/2016</td>\n",
       "      <td>18/10/2016</td>\n",
       "      <td>Standard Class</td>\n",
       "      <td>SO-20335</td>\n",
       "      <td>Sean O'Donnell</td>\n",
       "      <td>Consumer</td>\n",
       "      <td>United States</td>\n",
       "      <td>Fort Lauderdale</td>\n",
       "      <td>Florida</td>\n",
       "      <td>33311.0</td>\n",
       "      <td>South</td>\n",
       "      <td>FUR-TA-10000577</td>\n",
       "      <td>Furniture</td>\n",
       "      <td>Tables</td>\n",
       "      <td>Bretford CR4500 Series Slim Rectangular Table</td>\n",
       "      <td>957.5775</td>\n",
       "    </tr>\n",
       "    <tr>\n",
       "      <th>4</th>\n",
       "      <td>5</td>\n",
       "      <td>US-2016-108966</td>\n",
       "      <td>11/10/2016</td>\n",
       "      <td>18/10/2016</td>\n",
       "      <td>Standard Class</td>\n",
       "      <td>SO-20335</td>\n",
       "      <td>Sean O'Donnell</td>\n",
       "      <td>Consumer</td>\n",
       "      <td>United States</td>\n",
       "      <td>Fort Lauderdale</td>\n",
       "      <td>Florida</td>\n",
       "      <td>33311.0</td>\n",
       "      <td>South</td>\n",
       "      <td>OFF-ST-10000760</td>\n",
       "      <td>Office Supplies</td>\n",
       "      <td>Storage</td>\n",
       "      <td>Eldon Fold 'N Roll Cart System</td>\n",
       "      <td>22.3680</td>\n",
       "    </tr>\n",
       "  </tbody>\n",
       "</table>\n",
       "</div>"
      ],
      "text/plain": [
       "   Row ID        Order ID  Order Date   Ship Date       Ship Mode Customer ID  \\\n",
       "0       1  CA-2017-152156  08/11/2017  11/11/2017    Second Class    CG-12520   \n",
       "1       2  CA-2017-152156  08/11/2017  11/11/2017    Second Class    CG-12520   \n",
       "2       3  CA-2017-138688  12/06/2017  16/06/2017    Second Class    DV-13045   \n",
       "3       4  US-2016-108966  11/10/2016  18/10/2016  Standard Class    SO-20335   \n",
       "4       5  US-2016-108966  11/10/2016  18/10/2016  Standard Class    SO-20335   \n",
       "\n",
       "     Customer Name    Segment        Country             City       State  \\\n",
       "0      Claire Gute   Consumer  United States        Henderson    Kentucky   \n",
       "1      Claire Gute   Consumer  United States        Henderson    Kentucky   \n",
       "2  Darrin Van Huff  Corporate  United States      Los Angeles  California   \n",
       "3   Sean O'Donnell   Consumer  United States  Fort Lauderdale     Florida   \n",
       "4   Sean O'Donnell   Consumer  United States  Fort Lauderdale     Florida   \n",
       "\n",
       "   Postal Code Region       Product ID         Category Sub-Category  \\\n",
       "0      42420.0  South  FUR-BO-10001798        Furniture    Bookcases   \n",
       "1      42420.0  South  FUR-CH-10000454        Furniture       Chairs   \n",
       "2      90036.0   West  OFF-LA-10000240  Office Supplies       Labels   \n",
       "3      33311.0  South  FUR-TA-10000577        Furniture       Tables   \n",
       "4      33311.0  South  OFF-ST-10000760  Office Supplies      Storage   \n",
       "\n",
       "                                        Product Name     Sales  \n",
       "0                  Bush Somerset Collection Bookcase  261.9600  \n",
       "1  Hon Deluxe Fabric Upholstered Stacking Chairs,...  731.9400  \n",
       "2  Self-Adhesive Address Labels for Typewriters b...   14.6200  \n",
       "3      Bretford CR4500 Series Slim Rectangular Table  957.5775  \n",
       "4                     Eldon Fold 'N Roll Cart System   22.3680  "
      ]
     },
     "execution_count": 3,
     "metadata": {},
     "output_type": "execute_result"
    }
   ],
   "source": [
    "#reading a csv file dataset using pandas\n",
    "data = pd.read_csv(\"data/sales.csv\")\n",
    "data.head(5)"
   ]
  },
  {
   "cell_type": "markdown",
   "id": "40cdbb5e-1434-474d-a288-8104e1f0cad3",
   "metadata": {},
   "source": [
    "**Last 5 rows of Dataset.**"
   ]
  },
  {
   "cell_type": "code",
   "execution_count": 4,
   "id": "a658bb64-8072-4b15-af2d-9f8f6b3d8275",
   "metadata": {},
   "outputs": [
    {
     "data": {
      "text/html": [
       "<div>\n",
       "<style scoped>\n",
       "    .dataframe tbody tr th:only-of-type {\n",
       "        vertical-align: middle;\n",
       "    }\n",
       "\n",
       "    .dataframe tbody tr th {\n",
       "        vertical-align: top;\n",
       "    }\n",
       "\n",
       "    .dataframe thead th {\n",
       "        text-align: right;\n",
       "    }\n",
       "</style>\n",
       "<table border=\"1\" class=\"dataframe\">\n",
       "  <thead>\n",
       "    <tr style=\"text-align: right;\">\n",
       "      <th></th>\n",
       "      <th>Row ID</th>\n",
       "      <th>Order ID</th>\n",
       "      <th>Order Date</th>\n",
       "      <th>Ship Date</th>\n",
       "      <th>Ship Mode</th>\n",
       "      <th>Customer ID</th>\n",
       "      <th>Customer Name</th>\n",
       "      <th>Segment</th>\n",
       "      <th>Country</th>\n",
       "      <th>City</th>\n",
       "      <th>State</th>\n",
       "      <th>Postal Code</th>\n",
       "      <th>Region</th>\n",
       "      <th>Product ID</th>\n",
       "      <th>Category</th>\n",
       "      <th>Sub-Category</th>\n",
       "      <th>Product Name</th>\n",
       "      <th>Sales</th>\n",
       "    </tr>\n",
       "  </thead>\n",
       "  <tbody>\n",
       "    <tr>\n",
       "      <th>9795</th>\n",
       "      <td>9796</td>\n",
       "      <td>CA-2017-125920</td>\n",
       "      <td>21/05/2017</td>\n",
       "      <td>28/05/2017</td>\n",
       "      <td>Standard Class</td>\n",
       "      <td>SH-19975</td>\n",
       "      <td>Sally Hughsby</td>\n",
       "      <td>Corporate</td>\n",
       "      <td>United States</td>\n",
       "      <td>Chicago</td>\n",
       "      <td>Illinois</td>\n",
       "      <td>60610.0</td>\n",
       "      <td>Central</td>\n",
       "      <td>OFF-BI-10003429</td>\n",
       "      <td>Office Supplies</td>\n",
       "      <td>Binders</td>\n",
       "      <td>Cardinal HOLDit! Binder Insert Strips,Extra St...</td>\n",
       "      <td>3.798</td>\n",
       "    </tr>\n",
       "    <tr>\n",
       "      <th>9796</th>\n",
       "      <td>9797</td>\n",
       "      <td>CA-2016-128608</td>\n",
       "      <td>12/01/2016</td>\n",
       "      <td>17/01/2016</td>\n",
       "      <td>Standard Class</td>\n",
       "      <td>CS-12490</td>\n",
       "      <td>Cindy Schnelling</td>\n",
       "      <td>Corporate</td>\n",
       "      <td>United States</td>\n",
       "      <td>Toledo</td>\n",
       "      <td>Ohio</td>\n",
       "      <td>43615.0</td>\n",
       "      <td>East</td>\n",
       "      <td>OFF-AR-10001374</td>\n",
       "      <td>Office Supplies</td>\n",
       "      <td>Art</td>\n",
       "      <td>BIC Brite Liner Highlighters, Chisel Tip</td>\n",
       "      <td>10.368</td>\n",
       "    </tr>\n",
       "    <tr>\n",
       "      <th>9797</th>\n",
       "      <td>9798</td>\n",
       "      <td>CA-2016-128608</td>\n",
       "      <td>12/01/2016</td>\n",
       "      <td>17/01/2016</td>\n",
       "      <td>Standard Class</td>\n",
       "      <td>CS-12490</td>\n",
       "      <td>Cindy Schnelling</td>\n",
       "      <td>Corporate</td>\n",
       "      <td>United States</td>\n",
       "      <td>Toledo</td>\n",
       "      <td>Ohio</td>\n",
       "      <td>43615.0</td>\n",
       "      <td>East</td>\n",
       "      <td>TEC-PH-10004977</td>\n",
       "      <td>Technology</td>\n",
       "      <td>Phones</td>\n",
       "      <td>GE 30524EE4</td>\n",
       "      <td>235.188</td>\n",
       "    </tr>\n",
       "    <tr>\n",
       "      <th>9798</th>\n",
       "      <td>9799</td>\n",
       "      <td>CA-2016-128608</td>\n",
       "      <td>12/01/2016</td>\n",
       "      <td>17/01/2016</td>\n",
       "      <td>Standard Class</td>\n",
       "      <td>CS-12490</td>\n",
       "      <td>Cindy Schnelling</td>\n",
       "      <td>Corporate</td>\n",
       "      <td>United States</td>\n",
       "      <td>Toledo</td>\n",
       "      <td>Ohio</td>\n",
       "      <td>43615.0</td>\n",
       "      <td>East</td>\n",
       "      <td>TEC-PH-10000912</td>\n",
       "      <td>Technology</td>\n",
       "      <td>Phones</td>\n",
       "      <td>Anker 24W Portable Micro USB Car Charger</td>\n",
       "      <td>26.376</td>\n",
       "    </tr>\n",
       "    <tr>\n",
       "      <th>9799</th>\n",
       "      <td>9800</td>\n",
       "      <td>CA-2016-128608</td>\n",
       "      <td>12/01/2016</td>\n",
       "      <td>17/01/2016</td>\n",
       "      <td>Standard Class</td>\n",
       "      <td>CS-12490</td>\n",
       "      <td>Cindy Schnelling</td>\n",
       "      <td>Corporate</td>\n",
       "      <td>United States</td>\n",
       "      <td>Toledo</td>\n",
       "      <td>Ohio</td>\n",
       "      <td>43615.0</td>\n",
       "      <td>East</td>\n",
       "      <td>TEC-AC-10000487</td>\n",
       "      <td>Technology</td>\n",
       "      <td>Accessories</td>\n",
       "      <td>SanDisk Cruzer 4 GB USB Flash Drive</td>\n",
       "      <td>10.384</td>\n",
       "    </tr>\n",
       "  </tbody>\n",
       "</table>\n",
       "</div>"
      ],
      "text/plain": [
       "      Row ID        Order ID  Order Date   Ship Date       Ship Mode  \\\n",
       "9795    9796  CA-2017-125920  21/05/2017  28/05/2017  Standard Class   \n",
       "9796    9797  CA-2016-128608  12/01/2016  17/01/2016  Standard Class   \n",
       "9797    9798  CA-2016-128608  12/01/2016  17/01/2016  Standard Class   \n",
       "9798    9799  CA-2016-128608  12/01/2016  17/01/2016  Standard Class   \n",
       "9799    9800  CA-2016-128608  12/01/2016  17/01/2016  Standard Class   \n",
       "\n",
       "     Customer ID     Customer Name    Segment        Country     City  \\\n",
       "9795    SH-19975     Sally Hughsby  Corporate  United States  Chicago   \n",
       "9796    CS-12490  Cindy Schnelling  Corporate  United States   Toledo   \n",
       "9797    CS-12490  Cindy Schnelling  Corporate  United States   Toledo   \n",
       "9798    CS-12490  Cindy Schnelling  Corporate  United States   Toledo   \n",
       "9799    CS-12490  Cindy Schnelling  Corporate  United States   Toledo   \n",
       "\n",
       "         State  Postal Code   Region       Product ID         Category  \\\n",
       "9795  Illinois      60610.0  Central  OFF-BI-10003429  Office Supplies   \n",
       "9796      Ohio      43615.0     East  OFF-AR-10001374  Office Supplies   \n",
       "9797      Ohio      43615.0     East  TEC-PH-10004977       Technology   \n",
       "9798      Ohio      43615.0     East  TEC-PH-10000912       Technology   \n",
       "9799      Ohio      43615.0     East  TEC-AC-10000487       Technology   \n",
       "\n",
       "     Sub-Category                                       Product Name    Sales  \n",
       "9795      Binders  Cardinal HOLDit! Binder Insert Strips,Extra St...    3.798  \n",
       "9796          Art           BIC Brite Liner Highlighters, Chisel Tip   10.368  \n",
       "9797       Phones                                        GE 30524EE4  235.188  \n",
       "9798       Phones           Anker 24W Portable Micro USB Car Charger   26.376  \n",
       "9799  Accessories                SanDisk Cruzer 4 GB USB Flash Drive   10.384  "
      ]
     },
     "execution_count": 4,
     "metadata": {},
     "output_type": "execute_result"
    }
   ],
   "source": [
    "data.tail(5)"
   ]
  },
  {
   "cell_type": "markdown",
   "id": "6567ae7c-7568-4b3b-b7cf-a0c636a0b586",
   "metadata": {},
   "source": [
    "**3.Shape of the Dataset(Number of rows and columns).**"
   ]
  },
  {
   "cell_type": "code",
   "execution_count": 5,
   "id": "fc94ab3e-291f-424c-8a88-9693ed1d523c",
   "metadata": {},
   "outputs": [
    {
     "data": {
      "text/plain": [
       "(9800, 18)"
      ]
     },
     "execution_count": 5,
     "metadata": {},
     "output_type": "execute_result"
    }
   ],
   "source": [
    "data.shape"
   ]
  },
  {
   "cell_type": "code",
   "execution_count": 6,
   "id": "40122f81-031c-442a-8417-f8f12627c0c6",
   "metadata": {},
   "outputs": [
    {
     "name": "stdout",
     "output_type": "stream",
     "text": [
      "Number of Rows:  9800\n",
      "Number of Columns:  18\n"
     ]
    }
   ],
   "source": [
    "print(\"Number of Rows: \",data.shape[0])\n",
    "print(\"Number of Columns: \",data.shape[1])"
   ]
  },
  {
   "cell_type": "markdown",
   "id": "3728f8c0-9936-4656-b4a3-c59981d3dc2e",
   "metadata": {},
   "source": [
    "**4.Information about Dataset like total rows, total column,datatypes of each column and memory requirement.**"
   ]
  },
  {
   "cell_type": "code",
   "execution_count": 7,
   "id": "a33dc184-db88-4698-8e55-a60f571284bd",
   "metadata": {},
   "outputs": [
    {
     "name": "stdout",
     "output_type": "stream",
     "text": [
      "<class 'pandas.core.frame.DataFrame'>\n",
      "RangeIndex: 9800 entries, 0 to 9799\n",
      "Data columns (total 18 columns):\n",
      " #   Column         Non-Null Count  Dtype  \n",
      "---  ------         --------------  -----  \n",
      " 0   Row ID         9800 non-null   int64  \n",
      " 1   Order ID       9800 non-null   object \n",
      " 2   Order Date     9800 non-null   object \n",
      " 3   Ship Date      9800 non-null   object \n",
      " 4   Ship Mode      9800 non-null   object \n",
      " 5   Customer ID    9800 non-null   object \n",
      " 6   Customer Name  9800 non-null   object \n",
      " 7   Segment        9800 non-null   object \n",
      " 8   Country        9800 non-null   object \n",
      " 9   City           9800 non-null   object \n",
      " 10  State          9800 non-null   object \n",
      " 11  Postal Code    9789 non-null   float64\n",
      " 12  Region         9800 non-null   object \n",
      " 13  Product ID     9800 non-null   object \n",
      " 14  Category       9800 non-null   object \n",
      " 15  Sub-Category   9800 non-null   object \n",
      " 16  Product Name   9800 non-null   object \n",
      " 17  Sales          9800 non-null   float64\n",
      "dtypes: float64(2), int64(1), object(15)\n",
      "memory usage: 1.3+ MB\n"
     ]
    }
   ],
   "source": [
    "data.info()"
   ]
  },
  {
   "cell_type": "markdown",
   "id": "5f8f2c61-0388-492e-91f3-18ddefc06ee5",
   "metadata": {},
   "source": [
    "**5.Null values in the Dataset.**"
   ]
  },
  {
   "cell_type": "code",
   "execution_count": 8,
   "id": "96f96d61-77d9-4a24-8deb-1fbab3e952db",
   "metadata": {},
   "outputs": [
    {
     "data": {
      "text/plain": [
       "Row ID            0\n",
       "Order ID          0\n",
       "Order Date        0\n",
       "Ship Date         0\n",
       "Ship Mode         0\n",
       "Customer ID       0\n",
       "Customer Name     0\n",
       "Segment           0\n",
       "Country           0\n",
       "City              0\n",
       "State             0\n",
       "Postal Code      11\n",
       "Region            0\n",
       "Product ID        0\n",
       "Category          0\n",
       "Sub-Category      0\n",
       "Product Name      0\n",
       "Sales             0\n",
       "dtype: int64"
      ]
     },
     "execution_count": 8,
     "metadata": {},
     "output_type": "execute_result"
    }
   ],
   "source": [
    "data.isnull().sum()"
   ]
  },
  {
   "cell_type": "markdown",
   "id": "76ae9c79-4730-47f4-9417-9f9548ee63de",
   "metadata": {},
   "source": [
    "**6.Dropping Row ID, Customer ID, Ship Mode, Segment, State, Product ID, Postal Code.**"
   ]
  },
  {
   "cell_type": "code",
   "execution_count": 9,
   "id": "aa5b6202-389e-478a-8033-cde8d45129ed",
   "metadata": {},
   "outputs": [
    {
     "data": {
      "text/plain": [
       "Index(['Row ID', 'Order ID', 'Order Date', 'Ship Date', 'Ship Mode',\n",
       "       'Customer ID', 'Customer Name', 'Segment', 'Country', 'City', 'State',\n",
       "       'Postal Code', 'Region', 'Product ID', 'Category', 'Sub-Category',\n",
       "       'Product Name', 'Sales'],\n",
       "      dtype='object')"
      ]
     },
     "execution_count": 9,
     "metadata": {},
     "output_type": "execute_result"
    }
   ],
   "source": [
    "data.columns"
   ]
  },
  {
   "cell_type": "code",
   "execution_count": 10,
   "id": "c7b59f25-a435-4f41-a196-13a4ee889fda",
   "metadata": {},
   "outputs": [],
   "source": [
    "data_filtered = data.drop(['Row ID','Customer ID','Ship Mode','Segment','State','Product ID','Postal Code'], axis=1)"
   ]
  },
  {
   "cell_type": "code",
   "execution_count": 11,
   "id": "0a8eff2f-5187-4fba-bc47-03a1768c6265",
   "metadata": {},
   "outputs": [
    {
     "data": {
      "text/plain": [
       "Index(['Order ID', 'Order Date', 'Ship Date', 'Customer Name', 'Country',\n",
       "       'City', 'Region', 'Category', 'Sub-Category', 'Product Name', 'Sales'],\n",
       "      dtype='object')"
      ]
     },
     "execution_count": 11,
     "metadata": {},
     "output_type": "execute_result"
    }
   ],
   "source": [
    "data_filtered.columns"
   ]
  },
  {
   "cell_type": "markdown",
   "id": "5de924fa-6021-4a9b-9488-9db428fd970d",
   "metadata": {},
   "source": [
    "**7.Customer Order Frequency Analysis**"
   ]
  },
  {
   "cell_type": "code",
   "execution_count": 12,
   "id": "de170e86-4e16-40db-907b-c09c11f5fd35",
   "metadata": {},
   "outputs": [
    {
     "data": {
      "text/plain": [
       "Customer Name\n",
       "William Brown          35\n",
       "Matt Abelman           34\n",
       "Paul Prost             34\n",
       "John Lee               33\n",
       "Chloris Kastensmidt    32\n",
       "                       ..\n",
       "Jocasta Rupert          1\n",
       "Carl Jackson            1\n",
       "Sung Chung              1\n",
       "Ricardo Emerson         1\n",
       "Anthony O'Donnell       1\n",
       "Name: count, Length: 793, dtype: int64"
      ]
     },
     "execution_count": 12,
     "metadata": {},
     "output_type": "execute_result"
    }
   ],
   "source": [
    "data_filtered['Customer Name'].value_counts()"
   ]
  },
  {
   "cell_type": "markdown",
   "id": "06a648f4-f524-4a79-ab59-c315cd6e4199",
   "metadata": {},
   "source": [
    "**8.Get Overall Statistics about the Dataset.**"
   ]
  },
  {
   "cell_type": "code",
   "execution_count": 13,
   "id": "f89f8165-c2c6-44da-94f4-f8f550ff3b4b",
   "metadata": {},
   "outputs": [
    {
     "data": {
      "text/html": [
       "<div>\n",
       "<style scoped>\n",
       "    .dataframe tbody tr th:only-of-type {\n",
       "        vertical-align: middle;\n",
       "    }\n",
       "\n",
       "    .dataframe tbody tr th {\n",
       "        vertical-align: top;\n",
       "    }\n",
       "\n",
       "    .dataframe thead th {\n",
       "        text-align: right;\n",
       "    }\n",
       "</style>\n",
       "<table border=\"1\" class=\"dataframe\">\n",
       "  <thead>\n",
       "    <tr style=\"text-align: right;\">\n",
       "      <th></th>\n",
       "      <th>Sales</th>\n",
       "    </tr>\n",
       "  </thead>\n",
       "  <tbody>\n",
       "    <tr>\n",
       "      <th>count</th>\n",
       "      <td>9800.000000</td>\n",
       "    </tr>\n",
       "    <tr>\n",
       "      <th>mean</th>\n",
       "      <td>230.769059</td>\n",
       "    </tr>\n",
       "    <tr>\n",
       "      <th>std</th>\n",
       "      <td>626.651875</td>\n",
       "    </tr>\n",
       "    <tr>\n",
       "      <th>min</th>\n",
       "      <td>0.444000</td>\n",
       "    </tr>\n",
       "    <tr>\n",
       "      <th>25%</th>\n",
       "      <td>17.248000</td>\n",
       "    </tr>\n",
       "    <tr>\n",
       "      <th>50%</th>\n",
       "      <td>54.490000</td>\n",
       "    </tr>\n",
       "    <tr>\n",
       "      <th>75%</th>\n",
       "      <td>210.605000</td>\n",
       "    </tr>\n",
       "    <tr>\n",
       "      <th>max</th>\n",
       "      <td>22638.480000</td>\n",
       "    </tr>\n",
       "  </tbody>\n",
       "</table>\n",
       "</div>"
      ],
      "text/plain": [
       "              Sales\n",
       "count   9800.000000\n",
       "mean     230.769059\n",
       "std      626.651875\n",
       "min        0.444000\n",
       "25%       17.248000\n",
       "50%       54.490000\n",
       "75%      210.605000\n",
       "max    22638.480000"
      ]
     },
     "execution_count": 13,
     "metadata": {},
     "output_type": "execute_result"
    }
   ],
   "source": [
    "data_filtered.describe()"
   ]
  },
  {
   "cell_type": "code",
   "execution_count": 14,
   "id": "293a5936-eb3a-4da5-a55e-f6ab4c9955ca",
   "metadata": {},
   "outputs": [
    {
     "data": {
      "text/html": [
       "<div>\n",
       "<style scoped>\n",
       "    .dataframe tbody tr th:only-of-type {\n",
       "        vertical-align: middle;\n",
       "    }\n",
       "\n",
       "    .dataframe tbody tr th {\n",
       "        vertical-align: top;\n",
       "    }\n",
       "\n",
       "    .dataframe thead th {\n",
       "        text-align: right;\n",
       "    }\n",
       "</style>\n",
       "<table border=\"1\" class=\"dataframe\">\n",
       "  <thead>\n",
       "    <tr style=\"text-align: right;\">\n",
       "      <th></th>\n",
       "      <th>Order ID</th>\n",
       "      <th>Order Date</th>\n",
       "      <th>Ship Date</th>\n",
       "      <th>Customer Name</th>\n",
       "      <th>Country</th>\n",
       "      <th>City</th>\n",
       "      <th>Region</th>\n",
       "      <th>Category</th>\n",
       "      <th>Sub-Category</th>\n",
       "      <th>Product Name</th>\n",
       "      <th>Sales</th>\n",
       "    </tr>\n",
       "  </thead>\n",
       "  <tbody>\n",
       "    <tr>\n",
       "      <th>count</th>\n",
       "      <td>9800</td>\n",
       "      <td>9800</td>\n",
       "      <td>9800</td>\n",
       "      <td>9800</td>\n",
       "      <td>9800</td>\n",
       "      <td>9800</td>\n",
       "      <td>9800</td>\n",
       "      <td>9800</td>\n",
       "      <td>9800</td>\n",
       "      <td>9800</td>\n",
       "      <td>9800.000000</td>\n",
       "    </tr>\n",
       "    <tr>\n",
       "      <th>unique</th>\n",
       "      <td>4922</td>\n",
       "      <td>1230</td>\n",
       "      <td>1326</td>\n",
       "      <td>793</td>\n",
       "      <td>1</td>\n",
       "      <td>529</td>\n",
       "      <td>4</td>\n",
       "      <td>3</td>\n",
       "      <td>17</td>\n",
       "      <td>1849</td>\n",
       "      <td>NaN</td>\n",
       "    </tr>\n",
       "    <tr>\n",
       "      <th>top</th>\n",
       "      <td>CA-2018-100111</td>\n",
       "      <td>05/09/2017</td>\n",
       "      <td>26/09/2018</td>\n",
       "      <td>William Brown</td>\n",
       "      <td>United States</td>\n",
       "      <td>New York City</td>\n",
       "      <td>West</td>\n",
       "      <td>Office Supplies</td>\n",
       "      <td>Binders</td>\n",
       "      <td>Staple envelope</td>\n",
       "      <td>NaN</td>\n",
       "    </tr>\n",
       "    <tr>\n",
       "      <th>freq</th>\n",
       "      <td>14</td>\n",
       "      <td>38</td>\n",
       "      <td>34</td>\n",
       "      <td>35</td>\n",
       "      <td>9800</td>\n",
       "      <td>891</td>\n",
       "      <td>3140</td>\n",
       "      <td>5909</td>\n",
       "      <td>1492</td>\n",
       "      <td>47</td>\n",
       "      <td>NaN</td>\n",
       "    </tr>\n",
       "    <tr>\n",
       "      <th>mean</th>\n",
       "      <td>NaN</td>\n",
       "      <td>NaN</td>\n",
       "      <td>NaN</td>\n",
       "      <td>NaN</td>\n",
       "      <td>NaN</td>\n",
       "      <td>NaN</td>\n",
       "      <td>NaN</td>\n",
       "      <td>NaN</td>\n",
       "      <td>NaN</td>\n",
       "      <td>NaN</td>\n",
       "      <td>230.769059</td>\n",
       "    </tr>\n",
       "    <tr>\n",
       "      <th>std</th>\n",
       "      <td>NaN</td>\n",
       "      <td>NaN</td>\n",
       "      <td>NaN</td>\n",
       "      <td>NaN</td>\n",
       "      <td>NaN</td>\n",
       "      <td>NaN</td>\n",
       "      <td>NaN</td>\n",
       "      <td>NaN</td>\n",
       "      <td>NaN</td>\n",
       "      <td>NaN</td>\n",
       "      <td>626.651875</td>\n",
       "    </tr>\n",
       "    <tr>\n",
       "      <th>min</th>\n",
       "      <td>NaN</td>\n",
       "      <td>NaN</td>\n",
       "      <td>NaN</td>\n",
       "      <td>NaN</td>\n",
       "      <td>NaN</td>\n",
       "      <td>NaN</td>\n",
       "      <td>NaN</td>\n",
       "      <td>NaN</td>\n",
       "      <td>NaN</td>\n",
       "      <td>NaN</td>\n",
       "      <td>0.444000</td>\n",
       "    </tr>\n",
       "    <tr>\n",
       "      <th>25%</th>\n",
       "      <td>NaN</td>\n",
       "      <td>NaN</td>\n",
       "      <td>NaN</td>\n",
       "      <td>NaN</td>\n",
       "      <td>NaN</td>\n",
       "      <td>NaN</td>\n",
       "      <td>NaN</td>\n",
       "      <td>NaN</td>\n",
       "      <td>NaN</td>\n",
       "      <td>NaN</td>\n",
       "      <td>17.248000</td>\n",
       "    </tr>\n",
       "    <tr>\n",
       "      <th>50%</th>\n",
       "      <td>NaN</td>\n",
       "      <td>NaN</td>\n",
       "      <td>NaN</td>\n",
       "      <td>NaN</td>\n",
       "      <td>NaN</td>\n",
       "      <td>NaN</td>\n",
       "      <td>NaN</td>\n",
       "      <td>NaN</td>\n",
       "      <td>NaN</td>\n",
       "      <td>NaN</td>\n",
       "      <td>54.490000</td>\n",
       "    </tr>\n",
       "    <tr>\n",
       "      <th>75%</th>\n",
       "      <td>NaN</td>\n",
       "      <td>NaN</td>\n",
       "      <td>NaN</td>\n",
       "      <td>NaN</td>\n",
       "      <td>NaN</td>\n",
       "      <td>NaN</td>\n",
       "      <td>NaN</td>\n",
       "      <td>NaN</td>\n",
       "      <td>NaN</td>\n",
       "      <td>NaN</td>\n",
       "      <td>210.605000</td>\n",
       "    </tr>\n",
       "    <tr>\n",
       "      <th>max</th>\n",
       "      <td>NaN</td>\n",
       "      <td>NaN</td>\n",
       "      <td>NaN</td>\n",
       "      <td>NaN</td>\n",
       "      <td>NaN</td>\n",
       "      <td>NaN</td>\n",
       "      <td>NaN</td>\n",
       "      <td>NaN</td>\n",
       "      <td>NaN</td>\n",
       "      <td>NaN</td>\n",
       "      <td>22638.480000</td>\n",
       "    </tr>\n",
       "  </tbody>\n",
       "</table>\n",
       "</div>"
      ],
      "text/plain": [
       "              Order ID  Order Date   Ship Date  Customer Name        Country  \\\n",
       "count             9800        9800        9800           9800           9800   \n",
       "unique            4922        1230        1326            793              1   \n",
       "top     CA-2018-100111  05/09/2017  26/09/2018  William Brown  United States   \n",
       "freq                14          38          34             35           9800   \n",
       "mean               NaN         NaN         NaN            NaN            NaN   \n",
       "std                NaN         NaN         NaN            NaN            NaN   \n",
       "min                NaN         NaN         NaN            NaN            NaN   \n",
       "25%                NaN         NaN         NaN            NaN            NaN   \n",
       "50%                NaN         NaN         NaN            NaN            NaN   \n",
       "75%                NaN         NaN         NaN            NaN            NaN   \n",
       "max                NaN         NaN         NaN            NaN            NaN   \n",
       "\n",
       "                 City Region         Category Sub-Category     Product Name  \\\n",
       "count            9800   9800             9800         9800             9800   \n",
       "unique            529      4                3           17             1849   \n",
       "top     New York City   West  Office Supplies      Binders  Staple envelope   \n",
       "freq              891   3140             5909         1492               47   \n",
       "mean              NaN    NaN              NaN          NaN              NaN   \n",
       "std               NaN    NaN              NaN          NaN              NaN   \n",
       "min               NaN    NaN              NaN          NaN              NaN   \n",
       "25%               NaN    NaN              NaN          NaN              NaN   \n",
       "50%               NaN    NaN              NaN          NaN              NaN   \n",
       "75%               NaN    NaN              NaN          NaN              NaN   \n",
       "max               NaN    NaN              NaN          NaN              NaN   \n",
       "\n",
       "               Sales  \n",
       "count    9800.000000  \n",
       "unique           NaN  \n",
       "top              NaN  \n",
       "freq             NaN  \n",
       "mean      230.769059  \n",
       "std       626.651875  \n",
       "min         0.444000  \n",
       "25%        17.248000  \n",
       "50%        54.490000  \n",
       "75%       210.605000  \n",
       "max     22638.480000  "
      ]
     },
     "execution_count": 14,
     "metadata": {},
     "output_type": "execute_result"
    }
   ],
   "source": [
    "#for categorical statistics\n",
    "data_filtered.describe(include='all')"
   ]
  },
  {
   "cell_type": "markdown",
   "id": "8b4c3d77-e5fb-4fc5-a1f9-16d6a3c56f87",
   "metadata": {},
   "source": [
    "**Sales Trend Analysis**\n",
    "\n",
    "How have sales trended over time?"
   ]
  },
  {
   "cell_type": "code",
   "execution_count": 15,
   "id": "3785ada6-7aa9-4c78-be56-e544b5d50f2c",
   "metadata": {},
   "outputs": [],
   "source": [
    "import numpy as np\n",
    "import matplotlib.pyplot as plt\n",
    "import seaborn as sns"
   ]
  },
  {
   "cell_type": "code",
   "execution_count": 16,
   "id": "ef86b17c-36a0-487f-8e19-cdd65cc29f9c",
   "metadata": {},
   "outputs": [],
   "source": [
    "data_filtered['Order Date'] = pd.to_datetime(data_filtered['Order Date'], format='%d/%m/%Y', errors='coerce')"
   ]
  },
  {
   "cell_type": "code",
   "execution_count": 17,
   "id": "d07bfdb8-4065-4d4a-b322-429d5f3fc8cc",
   "metadata": {},
   "outputs": [
    {
     "data": {
      "image/png": "[encoded data removed]",
      "text/plain": [
       "<Figure size 1000x600 with 1 Axes>"
      ]
     },
     "metadata": {},
     "output_type": "display_data"
    }
   ],
   "source": [
    "#sales trend month by month\n",
    "sales_trend = data_filtered.resample(\"M\", on= 'Order Date')['Sales'].sum()\n",
    "sales_trend.plot(figsize=(10,6),title=\"Sales Trend Over Time\")\n",
    "plt.ylabel(\"Sales Amount\")\n",
    "plt.savefig(\"sales_trend.png\")\n",
    "plt.show()"
   ]
  },
  {
   "cell_type": "markdown",
   "id": "813cd09f-0c08-4190-9fc8-3d23c096c48a",
   "metadata": {},
   "source": [
    "**Region wise Sales Performance**\n",
    "\n",
    "How do sales vary across different region?"
   ]
  },
  {
   "cell_type": "code",
   "execution_count": 18,
   "id": "86928428-83cd-4f7c-bd94-712f3fcd763f",
   "metadata": {},
   "outputs": [
    {
     "data": {
      "image/png": "[encoded data removed]",
      "text/plain": [
       "<Figure size 1000x600 with 1 Axes>"
      ]
     },
     "metadata": {},
     "output_type": "display_data"
    }
   ],
   "source": [
    "region_sale = data_filtered.groupby(\"Region\")[\"Sales\"].sum()\n",
    "region_sale.plot(kind=\"bar\",figsize=(10,6),title=\"Sales by Region\",color=\"purple\")\n",
    "plt.ylabel(\"Sales Amount\")\n",
    "plt.savefig(\"image/Region_sale.png\")\n",
    "plt.show()"
   ]
  },
  {
   "cell_type": "markdown",
   "id": "6ab15b5f-e233-454a-b549-7d7da9d117a6",
   "metadata": {},
   "source": [
    "**Category and Sub-Category Performance**\n",
    "\n",
    "Which product category and sub-categories contribute the most to overall sales?"
   ]
  },
  {
   "cell_type": "code",
   "execution_count": 19,
   "id": "8c29cc12-b907-4060-a187-12b50f05b0d7",
   "metadata": {},
   "outputs": [
    {
     "data": {
      "image/png": "[encoded data removed]",
      "text/plain": [
       "<Figure size 1200x800 with 1 Axes>"
      ]
     },
     "metadata": {},
     "output_type": "display_data"
    }
   ],
   "source": [
    "category_sales = data_filtered.groupby([\"Category\",\"Sub-Category\"])[\"Sales\"].sum().sort_values(ascending=False)\n",
    "category_sales.plot(kind=\"bar\",figsize=(12,8),title=\"Sales by Category and Sub-category\")\n",
    "plt.ylabel(\"Sales Amount\")\n",
    "plt.savefig(\"image/category_sales.png\")\n",
    "plt.show()"
   ]
  },
  {
   "cell_type": "markdown",
   "id": "d0c6aa53-d70a-4023-8cd2-0d6d542bbbe6",
   "metadata": {},
   "source": [
    "**Shipping and Delivery Efficiency**\n",
    "\n",
    "How does shipping time affect sales?"
   ]
  },
  {
   "cell_type": "code",
   "execution_count": 20,
   "id": "b3e88d77-0289-4ba8-8508-d64863691398",
   "metadata": {},
   "outputs": [],
   "source": [
    "data_filtered['Shipping Time'] = (pd.to_datetime(data_filtered['Ship Date'], format='%d/%m/%Y') - data_filtered['Order Date']).dt.days"
   ]
  },
  {
   "cell_type": "code",
   "execution_count": 21,
   "id": "e852882e-af9e-475b-a7e6-952078311a26",
   "metadata": {},
   "outputs": [
    {
     "data": {
      "image/png": "[encoded data removed]",
      "text/plain": [
       "<Figure size 1000x600 with 1 Axes>"
      ]
     },
     "metadata": {},
     "output_type": "display_data"
    }
   ],
   "source": [
    "shipping_sales = data_filtered.groupby('Shipping Time')['Sales'].sum()\n",
    "shipping_sales.plot(kind='line', figsize=(10,6), title=\"Sales vs Shipping Time\")\n",
    "plt.ylabel(\"Sales Amount\")\n",
    "plt.savefig(\"image/sale_vs_shipping.png\")\n",
    "plt.show()"
   ]
  },
  {
   "cell_type": "markdown",
   "id": "10c71537-0353-4597-a9c2-359c5099fe98",
   "metadata": {},
   "source": [
    "**Customer Lifetime Value (CLV) Analysis**\n",
    "\n",
    "This analysis helps to understand how valuable a customer is over time by calculating the total revenue generated by each customer."
   ]
  },
  {
   "cell_type": "code",
   "execution_count": 22,
   "id": "8fd6643c-2ed0-4b8e-8fec-4a3fc4bfd6f7",
   "metadata": {},
   "outputs": [],
   "source": [
    "#group by Customer Name to calculate total sales per customer\n",
    "customer_sales = data_filtered.groupby('Customer Name')['Sales'].sum().reset_index().sort_values(by='Sales', ascending=False)"
   ]
  },
  {
   "cell_type": "code",
   "execution_count": 23,
   "id": "c0b29439-0657-4fc5-9583-fd3a455666a3",
   "metadata": {},
   "outputs": [
    {
     "data": {
      "image/png": "[encoded data removed]",
      "text/plain": [
       "<Figure size 1000x600 with 1 Axes>"
      ]
     },
     "metadata": {},
     "output_type": "display_data"
    }
   ],
   "source": [
    "#plotting total sales per customer\n",
    "plt.figure(figsize=(10, 6))\n",
    "sns.barplot(x='Sales', y='Customer Name', data=customer_sales.head(10), palette='viridis')\n",
    "plt.title('Top 10 Customers by Sales')\n",
    "plt.xlabel('Total Sales')\n",
    "plt.ylabel('Customer Name')\n",
    "plt.savefig(\"image/customer_by_sales.png\")\n",
    "plt.show()"
   ]
  },
  {
   "cell_type": "markdown",
   "id": "644a73c8-e1e4-415d-b02b-31a99273fcbf",
   "metadata": {},
   "source": [
    "**Product Sales Trend Over Time**\n",
    "\n",
    "How specific product sales have trended over time?"
   ]
  },
  {
   "cell_type": "code",
   "execution_count": 24,
   "id": "aa1e2f1c-10e5-4f38-8d8e-602cce1ed5ff",
   "metadata": {},
   "outputs": [],
   "source": [
    "#extracting year and month from the Order Date\n",
    "data_filtered['Year-Month'] = data_filtered['Order Date'].dt.to_period('M').astype(str)"
   ]
  },
  {
   "cell_type": "code",
   "execution_count": 25,
   "id": "7b409d32-5622-4dd3-b396-bc30bf89489e",
   "metadata": {},
   "outputs": [],
   "source": [
    "#group by Year-Month and Product Name\n",
    "product_sales_trend = data_filtered.groupby(['Year-Month', 'Product Name'])['Sales'].sum().reset_index()"
   ]
  },
  {
   "cell_type": "code",
   "execution_count": 26,
   "id": "cf8229bd-e26b-4a00-8672-cde5b4a0f750",
   "metadata": {},
   "outputs": [
    {
     "name": "stderr",
     "output_type": "stream",
     "text": [
      "C:\\Users\\ABC\\anaconda3\\Lib\\site-packages\\seaborn\\_oldcore.py:1119: FutureWarning: use_inf_as_na option is deprecated and will be removed in a future version. Convert inf values to NaN before operating instead.\n",
      "  with pd.option_context('mode.use_inf_as_na', True):\n",
      "C:\\Users\\ABC\\anaconda3\\Lib\\site-packages\\seaborn\\_oldcore.py:1119: FutureWarning: use_inf_as_na option is deprecated and will be removed in a future version. Convert inf values to NaN before operating instead.\n",
      "  with pd.option_context('mode.use_inf_as_na', True):\n"
     ]
    },
    {
     "data": {
      "image/png": "[encoded data removed]",
      "text/plain": [
       "<Figure size 1000x600 with 1 Axes>"
      ]
     },
     "metadata": {},
     "output_type": "display_data"
    }
   ],
   "source": [
    "#plot the trend of a specific product\n",
    "product_name = 'Hon Deluxe Fabric Upholstered Stacking Chairs'  # Example product\n",
    "product_trend = product_sales_trend[product_sales_trend['Product Name'] == product_name]\n",
    "plt.figure(figsize=(10, 6))\n",
    "sns.lineplot(x='Year-Month', y='Sales', data=product_trend)\n",
    "plt.title(f'Sales Trend of {product_name} Over Time')\n",
    "plt.xticks(rotation=90)\n",
    "plt.savefig(\"product_sales.png\")\n",
    "plt.show()"
   ]
  },
  {
   "cell_type": "markdown",
   "id": "7c983a9c-c4dc-40a5-a4b4-338ea5e95f1a",
   "metadata": {},
   "source": [
    "**Customer Segmentation Based on Spending**"
   ]
  },
  {
   "cell_type": "code",
   "execution_count": 27,
   "id": "11f8e37a-8aa2-44ef-98c5-cdd09bf84123",
   "metadata": {},
   "outputs": [],
   "source": [
    "import plotly.express as px"
   ]
  },
  {
   "cell_type": "code",
   "execution_count": 32,
   "id": "69439efa-8cd7-470f-bae7-707e0f9e8761",
   "metadata": {},
   "outputs": [
    {
     "data": {
      "application/vnd.plotly.v1+json": {
       "config": {
        "plotlyServerURL": "https://plot.ly"
       },
       "data": [
        {
         "alignmentgroup": "True",
         "hovertemplate": "Customer Segment=%{x}<br>Total Spending=%{y}<extra></extra>",
         "legendgroup": "",
         "marker": {
          "color": "#636efa"
         },
         "name": "",
         "notched": false,
         "offsetgroup": "",
         "orientation": "v",
         "showlegend": false,
         "type": "box",
         "x": [
          "Low",
          "Medium",
          "High",
          "Very High",
          "High",
          "High",
          "Very High",
          "Medium",
          "Low",
          "Low",
          "Medium",
          "Very High",
          "Medium",
          "Very High",
          "Very High",
          "Low",
          "Low",
          "High",
          "High",
          "Low",
          "Very High",
          "Low",
          "Low",
          "Low",
          "Low",
          "Low",
          "High",
          "Low",
          "Medium",
          "Very High",
          "High",
          "Medium",
          "Medium",
          "Low",
          "Medium",
          "Very High",
          "Low",
          "Low",
          "Low",
          "Medium",
          "High",
          "Low",
          "Very High",
          "Low",
          "High",
          "Very High",
          "Very High",
          "Low",
          "Very High",
          "Medium",
          "Low",
          "Very High",
          "Very High",
          "Low",
          "Very High",
          "Low",
          "Very High",
          "Medium",
          "Low",
          "Very High",
          "High",
          "High",
          "Medium",
          "Low",
          "Low",
          "Low",
          "Medium",
          "High",
          "High",
          "Low",
          "Low",
          "Low",
          "High",
          "Very High",
          "High",
          "Very High",
          "Medium",
          "Very High",
          "Very High",
          "Medium",
          "Medium",
          "Medium",
          "Medium",
          "Low",
          "Low",
          "High",
          "High",
          "Very High",
          "Very High",
          "High",
          "Very High",
          "Very High",
          "Medium",
          "High",
          "Low",
          "Low",
          "Low",
          "Low",
          "Low",
          "Very High",
          "Medium",
          "High",
          "Very High",
          "Low",
          "Low",
          "High",
          "High",
          "Medium",
          "Low",
          "Very High",
          "High",
          "High",
          "Medium",
          "Very High",
          "Medium",
          "Low",
          "High",
          "Low",
          "Medium",
          "Low",
          "Medium",
          "Medium",
          "Low",
          "Low",
          "Medium",
          "Medium",
          "Medium",
          "Low",
          "High",
          "Very High",
          "Low",
          "High",
          "Very High",
          "Very High",
          "Low",
          "Medium",
          "Medium",
          "Very High",
          "Medium",
          "Medium",
          "Low",
          "High",
          "High",
          "Low",
          "Medium",
          "High",
          "High",
          "High",
          "High",
          "High",
          "Medium",
          "High",
          "Medium",
          "High",
          "Very High",
          "High",
          "Very High",
          "Very High",
          "High",
          "Medium",
          "High",
          "Low",
          "Low",
          "Medium",
          "Low",
          "Very High",
          "Medium",
          "Very High",
          "Low",
          "Very High",
          "Medium",
          "High",
          "High",
          "Low",
          "Medium",
          "Very High",
          "High",
          "High",
          "High",
          "Very High",
          "Medium",
          "Medium",
          "Medium",
          "High",
          "Medium",
          "High",
          "Medium",
          "High",
          "High",
          "Low",
          "Very High",
          "Very High",
          "Medium",
          "High",
          "Very High",
          "Medium",
          "High",
          "Medium",
          "Low",
          "Very High",
          "Medium",
          "Medium",
          "Very High",
          "High",
          "High",
          "Medium",
          "High",
          "High",
          "Low",
          "Low",
          "High",
          "Low",
          "High",
          "Very High",
          "Very High",
          "High",
          "Very High",
          "Medium",
          "High",
          "Medium",
          "Low",
          "Very High",
          "Low",
          "High",
          "Very High",
          "Medium",
          "Medium",
          "Medium",
          "Low",
          "High",
          "Very High",
          "High",
          "High",
          "Medium",
          "Low",
          "Very High",
          "Low",
          "Medium",
          "Low",
          "Medium",
          "High",
          "Medium",
          "Medium",
          "Low",
          "Medium",
          "High",
          "Medium",
          "Low",
          "High",
          "Very High",
          "Medium",
          "Medium",
          "High",
          "High",
          "Low",
          "Medium",
          "High",
          "High",
          "Medium",
          "Very High",
          "Low",
          "Low",
          "Low",
          "Medium",
          "Low",
          "Medium",
          "High",
          "High",
          "Low",
          "Low",
          "Very High",
          "Low",
          "High",
          "High",
          "Very High",
          "High",
          "Medium",
          "Low",
          "Low",
          "High",
          "High",
          "High",
          "Medium",
          "Very High",
          "Very High",
          "High",
          "Very High",
          "Very High",
          "High",
          "Very High",
          "High",
          "Low",
          "High",
          "Very High",
          "High",
          "High",
          "Very High",
          "Medium",
          "Medium",
          "Very High",
          "Medium",
          "High",
          "Medium",
          "Very High",
          "Medium",
          "Medium",
          "Very High",
          "Very High",
          "High",
          "Low",
          "High",
          "Very High",
          "Very High",
          "Medium",
          "Low",
          "Low",
          "Low",
          "Low",
          "Low",
          "Medium",
          "Very High",
          "Low",
          "Very High",
          "Low",
          "Very High",
          "Medium",
          "High",
          "Very High",
          "Low",
          "High",
          "Low",
          "High",
          "Low",
          "Very High",
          "Very High",
          "Low",
          "Very High",
          "Low",
          "Very High",
          "High",
          "Medium",
          "High",
          "Very High",
          "Medium",
          "High",
          "Very High",
          "Very High",
          "Medium",
          "High",
          "Medium",
          "Medium",
          "Low",
          "High",
          "Low",
          "Low",
          "Medium",
          "Medium",
          "Low",
          "Medium",
          "High",
          "Low",
          "Low",
          "Medium",
          "Medium",
          "Low",
          "High",
          "High",
          "Medium",
          "Medium",
          "Very High",
          "Low",
          "Medium",
          "Very High",
          "Very High",
          "Very High",
          "Low",
          "Medium",
          "Low",
          "Low",
          "Very High",
          "Very High",
          "Very High",
          "Low",
          "High",
          "Medium",
          "Medium",
          "Low",
          "Very High",
          "High",
          "Very High",
          "Very High",
          "Very High",
          "Low",
          "Low",
          "Low",
          "Low",
          "Very High",
          "Very High",
          "Low",
          "Low",
          "High",
          "High",
          "Low",
          "Medium",
          "Very High",
          "Low",
          "High",
          "Medium",
          "Very High",
          "High",
          "High",
          "High",
          "Medium",
          "High",
          "High",
          "Medium",
          "Very High",
          "Very High",
          "Low",
          "Medium",
          "High",
          "Medium",
          "High",
          "Very High",
          "High",
          "Low",
          "Medium",
          "Very High",
          "Medium",
          "High",
          "Very High",
          "Very High",
          "Very High",
          "Medium",
          "Very High",
          "Very High",
          "Low",
          "High",
          "Low",
          "Low",
          "Very High",
          "Very High",
          "Low",
          "Medium",
          "Very High",
          "Medium",
          "Very High",
          "Low",
          "Low",
          "Low",
          "Very High",
          "Very High",
          "Medium",
          "High",
          "High",
          "Low",
          "High",
          "Very High",
          "High",
          "Very High",
          "Very High",
          "High",
          "High",
          "High",
          "High",
          "Medium",
          "Low",
          "Medium",
          "Medium",
          "Medium",
          "Low",
          "High",
          "High",
          "Medium",
          "High",
          "Medium",
          "Low",
          "Very High",
          "Low",
          "Very High",
          "Low",
          "Low",
          "Medium",
          "High",
          "Medium",
          "Medium",
          "Very High",
          "Low",
          "High",
          "Very High",
          "High",
          "High",
          "High",
          "Very High",
          "Low",
          "Medium",
          "High",
          "Medium",
          "Low",
          "High",
          "Low",
          "Low",
          "Very High",
          "Medium",
          "High",
          "High",
          "Medium",
          "Low",
          "Very High",
          "Low",
          "High",
          "Medium",
          "Medium",
          "Medium",
          "Very High",
          "Medium",
          "High",
          "Medium",
          "Medium",
          "High",
          "Low",
          "Very High",
          "Medium",
          "Medium",
          "Low",
          "High",
          "High",
          "High",
          "Low",
          "Very High",
          "Low",
          "High",
          "Medium",
          "High",
          "Low",
          "High",
          "Medium",
          "Medium",
          "High",
          "Very High",
          "Medium",
          "High",
          "Low",
          "Very High",
          "Medium",
          "Low",
          "Very High",
          "Very High",
          "Medium",
          "Low",
          "Low",
          "High",
          "Medium",
          "Very High",
          "High",
          "Medium",
          "Very High",
          "Very High",
          "Very High",
          "High",
          "Medium",
          "Very High",
          "High",
          "Low",
          "Low",
          "High",
          "Medium",
          "Very High",
          "High",
          "High",
          "Low",
          "Medium",
          "High",
          "Medium",
          "High",
          "Medium",
          "Very High",
          "Medium",
          "Very High",
          "Medium",
          "Very High",
          "Medium",
          "Medium",
          "Medium",
          "Low",
          "Low",
          "High",
          "Medium",
          "Very High",
          "High",
          "Medium",
          "Medium",
          "Medium",
          "Low",
          "Medium",
          "Very High",
          "Medium",
          "High",
          "Low",
          "Medium",
          "High",
          "Very High",
          "Low",
          "Very High",
          "Low",
          "Low",
          "Very High",
          "Very High",
          "Medium",
          "High",
          "Very High",
          "Low",
          "Low",
          "Medium",
          "Very High",
          "Very High",
          "Low",
          "High",
          "Medium",
          "Low",
          "Low",
          "High",
          "Very High",
          "Medium",
          "Very High",
          "Low",
          "High",
          "Medium",
          "Low",
          "Very High",
          "Very High",
          "High",
          "Very High",
          "High",
          "Very High",
          "Low",
          "Low",
          "High",
          "Medium",
          "Very High",
          "High",
          "Low",
          "High",
          "Very High",
          "High",
          "Medium",
          "Medium",
          "High",
          "Low",
          "Very High",
          "Very High",
          "Very High",
          "Medium",
          "Low",
          "Low",
          "Medium",
          "Low",
          "High",
          "High",
          "Very High",
          "Low",
          "Medium",
          "Low",
          "High",
          "Low",
          "Low",
          "High",
          "High",
          "Very High",
          "Low",
          "High",
          "Very High",
          "Very High",
          "Very High",
          "Medium",
          "High",
          "Medium",
          "Very High",
          "High",
          "Medium",
          "Very High",
          "Medium",
          "Very High",
          "Medium",
          "Very High",
          "High",
          "Very High",
          "High",
          "Low",
          "Very High",
          "Very High",
          "Medium",
          "High",
          "High",
          "Medium",
          "High",
          "Medium",
          "Very High",
          "Medium",
          "Low",
          "Low",
          "Medium",
          "Medium",
          "Low",
          "Low",
          "High",
          "Very High",
          "Medium",
          "Medium",
          "High",
          "Medium",
          "High",
          "High",
          "Very High",
          "Very High",
          "Low",
          "Very High",
          "Very High",
          "Low",
          "Medium",
          "Very High",
          "Low",
          "Very High",
          "Low",
          "Low",
          "Low",
          "Very High",
          "Medium",
          "Very High",
          "High",
          "Very High",
          "Medium",
          "High",
          "Very High",
          "High",
          "Medium",
          "Very High",
          "Low",
          "High",
          "High",
          "Very High",
          "Low",
          "Medium",
          "High",
          "Low",
          "Very High",
          "Medium",
          "Low",
          "Medium",
          "Low",
          "Medium",
          "Very High",
          "High",
          "Low",
          "Low",
          "Low",
          "Very High",
          "Very High",
          "Very High",
          "Very High",
          "Medium",
          "Very High",
          "Medium",
          "Medium",
          "High",
          "Very High",
          "Low",
          "Very High",
          "Medium",
          "Medium",
          "Medium",
          "High",
          "High",
          "Medium",
          "High",
          "Very High",
          "High",
          "Medium",
          "Low",
          "Low",
          "Medium",
          "High",
          "Very High",
          "Low",
          "Low",
          "Low",
          "Low",
          "Very High",
          "High",
          "Very High",
          "Very High",
          "Very High",
          "Medium"
         ],
         "x0": " ",
         "xaxis": "x",
         "y": [
          886.156,
          1744.7,
          3050.692,
          7755.62,
          3250.337,
          3255.31,
          14473.570999999998,
          1735.5140000000001,
          58.82,
          966.71,
          1113.838,
          6106.88,
          1587.452,
          4805.344,
          4260.784,
          503.968,
          914.5319999999999,
          2582.898,
          3214.236,
          367.548,
          5563.56,
          660.972,
          1055.694,
          814.012,
          1056.39,
          200.945,
          2236.128,
          925.8,
          1166.0720000000001,
          5527.846,
          2495.3916,
          1790.5120000000002,
          1419.247,
          264.86400000000003,
          1455.038,
          6608.448,
          497.014,
          88.15,
          738.504,
          1515.862,
          2537.6859999999997,
          833.398,
          5086.9349999999995,
          657.316,
          3489.0396000000005,
          7888.294,
          5664.022,
          545.932,
          3831.864,
          1622.0179999999998,
          170.584,
          4867.344,
          4501.391,
          161.28,
          4523.336,
          649.376,
          4375.786,
          2052.908,
          861.565,
          4510.797,
          3323.556,
          2852.968,
          1829.896,
          629.2479999999999,
          599.798,
          744.3399999999999,
          1333.88,
          2888.506,
          2798.948,
          983.42,
          385.516,
          272.95,
          2442.044,
          4750.358,
          2933.676,
          11789.63,
          1697.8609999999999,
          5907.972,
          3675.861,
          1738.406,
          1585.162,
          1181.49,
          1523.2730000000001,
          659.1379999999999,
          791.9899999999999,
          2475.157,
          2567.656,
          5718.521,
          4204.676,
          2682.728,
          10501.653,
          3887.834,
          2186.6130000000003,
          2261.438,
          130.83,
          603.876,
          748.026,
          265.296,
          415.19599999999997,
          4411.2429999999995,
          1459.344,
          2684.4919999999997,
          6765.728,
          320.54,
          808.162,
          2454.928,
          2783.189,
          1538.11,
          582.646,
          7294.185,
          3288.1099999999997,
          3196.752,
          1874.172,
          6255.351,
          1526.5,
          1006.356,
          2562.382,
          658.466,
          1338.842,
          949.4300000000001,
          1673.888,
          1278.954,
          537.632,
          16.52,
          1262.0140000000001,
          1136.592,
          2033.968,
          565.392,
          3036.547,
          3789.7228,
          639.766,
          3241.898,
          11164.974,
          5730.669,
          904.4680000000001,
          1679.7240000000002,
          1537.236,
          5402.254,
          1685.889,
          1661.6100000000001,
          884.64,
          2471.65,
          2533.314,
          844.4580000000001,
          1475.144,
          3154.855,
          3670.258,
          2305.712,
          2754.216,
          2638.3272,
          1205.584,
          2830.6279999999997,
          1421.954,
          2945.321,
          5817.187,
          3202.1620000000003,
          12129.072000000002,
          8954.019999999999,
          3651.8585000000003,
          1949.2,
          2870.05,
          287.99,
          550.644,
          1659.438,
          970.1105,
          5690.054999999999,
          1148.7800000000002,
          4246.4555,
          113.832,
          10880.546,
          2148.852,
          2372.75,
          2540.631,
          475.9,
          1300.076,
          5890.508,
          2269.7015,
          2854.1150000000002,
          2335.586,
          3984.4524,
          1600.55,
          2004.0819999999999,
          1582.109,
          3041.566,
          1860.732,
          2370.3136,
          1397.8724,
          3256.48,
          3336.168,
          444.024,
          6528.034000000001,
          4282.176,
          2171.599,
          3272.2,
          8350.868,
          1322.034,
          2469.6672,
          1687.04,
          897.524,
          6345.103,
          1762.213,
          1119.483,
          4151.51,
          3487.1980000000003,
          2650.557,
          2215.002,
          2973.094,
          2390.534,
          797.832,
          1058.616,
          2881.8128,
          1080.751,
          2332.577,
          4802.394,
          7198.7609999999995,
          2550.874,
          4655.897,
          1174.618,
          3195.818,
          1458.258,
          585.02,
          4074.4719999999998,
          1081.466,
          3318.486,
          5480.723999999999,
          1711.692,
          2012.52,
          1300.0315,
          156.76,
          3254.487,
          5271.628,
          3539.322,
          2501.6879999999996,
          1376.792,
          344.08,
          3908.8028,
          269.542,
          1204.854,
          755.602,
          1989.05,
          3356.398,
          1267.316,
          1155.202,
          1043.096,
          2139.79,
          3644.978,
          2162.174,
          124.28,
          3236.314,
          9940.380000000001,
          2199.366,
          1303.478,
          2567.0099999999998,
          2339.598,
          964.448,
          1245.788,
          2767.219,
          3484.92,
          1832.02,
          5478.0608,
          944.6000000000001,
          684.1709999999999,
          933.704,
          1643.255,
          825.9499999999999,
          1219.53,
          3510.4579999999996,
          2752.441,
          461.914,
          228.99,
          4657.924,
          1041.0420000000001,
          3071.126,
          3082.653,
          4588.436000000001,
          2656.691,
          1186.326,
          923.884,
          366.822,
          2456.638,
          2984.054,
          3418.742,
          1383.144,
          4256.272,
          3736.198,
          2678.438,
          4046.746,
          3889.366,
          2271.284,
          6987.196,
          2523.266,
          79.75,
          2819.4669999999996,
          4172.8460000000005,
          3582.8199999999997,
          3078.624,
          4355.150000000001,
          1361.2440000000001,
          1255.682,
          3797.2320000000004,
          1568.44,
          2454.6220000000003,
          1284.38,
          4716.288,
          1888.07,
          2189.019,
          6497.27,
          9351.212,
          2224,
          146.94080000000002,
          3163.628,
          6049.966,
          11820.119999999999,
          1398.382,
          236.53,
          226.436,
          940.588,
          251.36,
          755.462,
          1990.314,
          5248.787,
          785.628,
          8236.7648,
          358.1,
          4877.784,
          2163.3,
          2584.158,
          4827.934,
          886.52,
          3247.642,
          736.276,
          2533.1639999999998,
          218.668,
          3690.284,
          12873.297999999999,
          48.4,
          4930.474,
          744.574,
          5040.736,
          2358.676,
          1214.956,
          3254.949,
          6366.392,
          1571.523,
          2239.606,
          4262.2919999999995,
          7721.714,
          2203.7,
          3159.1220000000003,
          1804.146,
          1934.272,
          955.124,
          2240.58,
          383.812,
          71.263,
          1911.844,
          2136.458,
          1058.108,
          1791.605,
          2309.432,
          309.281,
          709.178,
          1669.135,
          1388.682,
          890.95,
          3173.874,
          3635.594,
          1733.443,
          1090.838,
          4198.332,
          303.948,
          1417.654,
          7754.976,
          3760.028,
          4760.434,
          864.947,
          1156.658,
          990.1959999999999,
          863.88,
          8697.842999999999,
          4769.9,
          6760.8150000000005,
          195,
          2772.055,
          2152.352,
          1507.018,
          528.91,
          9576.343,
          2725.256,
          7625.076000000001,
          3868.02,
          7610.8640000000005,
          959.477,
          900.552,
          469.169,
          1049.2379999999998,
          6491.026,
          7954.9980000000005,
          644.1188,
          385.43,
          2516.494,
          2518.115,
          695.442,
          1428.731,
          3747.668,
          858.576,
          2932.484,
          1707.71,
          8828.0305,
          2697.248,
          2256.3940000000002,
          2833.9260000000004,
          2201.686,
          2260.958,
          3152.6150000000002,
          2120.954,
          8282.358,
          10604.266,
          88.472,
          1569.464,
          3312.864,
          1888.964,
          3100.612,
          5620.186,
          2224.0860000000002,
          908.821,
          1453.2812000000001,
          4416.5199999999995,
          2171.962,
          3057.1,
          4642.088400000001,
          8181.256,
          5229.695000000001,
          1519.506,
          3908.262,
          5016.488,
          449.096,
          2744.742,
          983.922,
          907.158,
          3918.9660000000003,
          14175.229000000001,
          453.538,
          1146.05,
          5990.799,
          2003.01,
          4909.472,
          50.188,
          287.426,
          329.876,
          8673.222,
          4985.676,
          1469.45,
          2238.061,
          2454.554,
          5.304,
          2580.7039999999997,
          7663.126,
          2295.332,
          5142.892,
          4492.946,
          2845.27,
          3246.626,
          2988.674,
          3230.308,
          1961.934,
          318.239,
          1879.306,
          2095.064,
          1346.774,
          756.606,
          3104.439,
          2936.252,
          1259.04,
          2633.582,
          1739.689,
          644.35,
          3930.5089999999996,
          1010.2560000000001,
          5420.514,
          368.88000000000005,
          1008.1360000000001,
          1314.023,
          2725.982,
          1691.505,
          1548.702,
          10663.728000000001,
          593.606,
          2716.412,
          7443.6900000000005,
          2254.285,
          2722.843,
          2885.26,
          4432.138,
          400.016,
          2146.694,
          2945.822,
          1560.05,
          922.487,
          2564.906,
          475.65599999999995,
          639.178,
          4299.161,
          1303.893,
          2426.067,
          2258.192,
          1252.8,
          795.154,
          3785.276,
          937.039,
          2350.188,
          1342.282,
          1613.402,
          1908.4532,
          6320.746,
          2071.9139999999998,
          3144.678,
          2203.7780000000002,
          1687.0269999999998,
          2890.139,
          370.348,
          3805.714,
          1204.91,
          1242.8329999999999,
          776.384,
          2302.368,
          3640.2560000000003,
          2477.946,
          154.288,
          3983.6420000000003,
          855.116,
          2453.284,
          1256.944,
          2984.948,
          742.082,
          2749.881,
          1319.4498,
          1428.231,
          2218.98,
          5503.093,
          1581.9979999999998,
          3061.543,
          1031.602,
          4757.332,
          1734.574,
          16.739,
          5341.900000000001,
          5253.876,
          1758.3,
          162.232,
          775.414,
          3601.88,
          1418.0900000000001,
          5529.62,
          2461.404,
          1869.58,
          4326.139,
          8080.474,
          7234.014,
          2218.9900000000002,
          1395.9379999999999,
          6459.344,
          2893.455,
          377.16200000000003,
          572.048,
          2575.863,
          2161.979,
          8241.739,
          2367.277,
          2488.31,
          273.87199999999996,
          2031.472,
          2518.6659999999997,
          1821.742,
          2857.753,
          1972.599,
          3908.402,
          1164.73,
          7903.1825,
          1567.52,
          3818.624,
          1832.064,
          2181.479,
          1467.152,
          729.648,
          740.356,
          3086.907,
          1220.09,
          7473.8282,
          2493.214,
          1840.178,
          1987.164,
          1441.152,
          239.481,
          1405.402,
          7252.608,
          1278.639,
          2876.046,
          1061.488,
          1677.536,
          3454.916,
          6843.634,
          729.408,
          8646.934,
          158.46,
          688.324,
          9062.864,
          4115.662,
          1456.95,
          2770,
          4893.043,
          1056.858,
          132.738,
          2206.1279999999997,
          3922.4150000000004,
          6108.338,
          954.6452,
          2617.906,
          1460.192,
          615.932,
          1008.1959999999999,
          3309.15,
          15117.339,
          1453.474,
          5153.084,
          48.36,
          3221.29,
          1864.156,
          666.52,
          4715.466,
          4272.93,
          3621.3759999999997,
          6979.18,
          3302.2619999999997,
          7397.401,
          740.382,
          528.546,
          2832.904,
          2085.7400000000002,
          6234.91,
          3279.746,
          221.084,
          2745.892,
          5979.0960000000005,
          3495.646,
          2067.45,
          1419.737,
          2341.2960000000003,
          98.35,
          4159.7699999999995,
          3815.478,
          5633.316000000001,
          1137.616,
          966.409,
          938.862,
          2055.356,
          22.328,
          3546.224,
          3133.924,
          4793.543,
          970.9420000000001,
          1686.9225,
          652.644,
          2465.6594999999998,
          883.409,
          244.49399999999997,
          3362.9636,
          3625.329,
          4624.572,
          763.5459999999999,
          3406.5809999999997,
          14142.333999999999,
          12209.438000000002,
          3949.656,
          1324.028,
          3046.532,
          1348.02,
          6410.996,
          3422.7859999999996,
          1341.036,
          4371.9580000000005,
          1085.078,
          3729.7929999999997,
          1966.65,
          8057.891,
          3650.473,
          25043.05,
          2602.5755,
          1019.044,
          11470.949999999999,
          5992.536,
          2180.718,
          3056.8070000000002,
          3233.481,
          1874.998,
          2835.564,
          1884.798,
          6121.114,
          1318.776,
          613.4,
          433.34000000000003,
          1306.086,
          1860.418,
          799.798,
          418.49,
          3118.892,
          5440.319,
          2096.392,
          1872.4360000000001,
          2595.364,
          1254.64,
          2576.408,
          3127.9592,
          5226.21,
          4345.8859999999995,
          758.6959999999999,
          4492.657,
          4105.305,
          279.25600000000003,
          1271.0900000000001,
          4767.3415,
          14.112,
          4282.94,
          964.636,
          47.946,
          1043.041,
          3990.689,
          1903.491,
          4464.862,
          3336.535,
          19052.218,
          1434.5480000000002,
          2819.026,
          5278.826,
          3130.221,
          1451.361,
          4915.602,
          4.833,
          2422.824,
          2942.772,
          4454.0560000000005,
          1038.26,
          2163.6240000000003,
          3589.296,
          816.1740000000001,
          5371.09,
          1427.0439999999999,
          1022.201,
          1602.376,
          439.5,
          2198.45,
          4266.812,
          3058.372,
          675.9419999999999,
          974.7819999999999,
          834.328,
          11891.751,
          14595.62,
          9108.742,
          5329.0048,
          2054.14,
          5364.808,
          1244.976,
          1094.6779999999999,
          2243.274,
          4737.486,
          742.5580000000001,
          4234.0960000000005,
          1936.6399999999999,
          1707.286,
          1240.871,
          2820.424,
          2797.668,
          2074.661,
          3368.094,
          6442.254,
          2454.866,
          1736.596,
          847.944,
          993.9019999999999,
          2005.596,
          3360.526,
          6134.0380000000005,
          846.01,
          418.432,
          1055.981,
          380.69,
          6129.71,
          2374.658,
          6720.4439999999995,
          5454.35,
          8025.707,
          1493.944
         ],
         "y0": " ",
         "yaxis": "y"
        }
       ],
       "layout": {
        "autosize": true,
        "boxmode": "group",
        "legend": {
         "tracegroupgap": 0
        },
        "template": {
         "data": {
          "bar": [
           {
            "error_x": {
             "color": "#2a3f5f"
            },
            "error_y": {
             "color": "#2a3f5f"
            },
            "marker": {
             "line": {
              "color": "#E5ECF6",
              "width": 0.5
             },
             "pattern": {
              "fillmode": "overlay",
              "size": 10,
              "solidity": 0.2
             }
            },
            "type": "bar"
           }
          ],
          "barpolar": [
           {
            "marker": {
             "line": {
              "color": "#E5ECF6",
              "width": 0.5
             },
             "pattern": {
              "fillmode": "overlay",
              "size": 10,
              "solidity": 0.2
             }
            },
            "type": "barpolar"
           }
          ],
          "carpet": [
           {
            "aaxis": {
             "endlinecolor": "#2a3f5f",
             "gridcolor": "white",
             "linecolor": "white",
             "minorgridcolor": "white",
             "startlinecolor": "#2a3f5f"
            },
            "baxis": {
             "endlinecolor": "#2a3f5f",
             "gridcolor": "white",
             "linecolor": "white",
             "minorgridcolor": "white",
             "startlinecolor": "#2a3f5f"
            },
            "type": "carpet"
           }
          ],
          "choropleth": [
           {
            "colorbar": {
             "outlinewidth": 0,
             "ticks": ""
            },
            "type": "choropleth"
           }
          ],
          "contour": [
           {
            "colorbar": {
             "outlinewidth": 0,
             "ticks": ""
            },
            "colorscale": [
             [
              0,
              "#0d0887"
             ],
             [
              0.1111111111111111,
              "#46039f"
             ],
             [
              0.2222222222222222,
              "#7201a8"
             ],
             [
              0.3333333333333333,
              "#9c179e"
             ],
             [
              0.4444444444444444,
              "#bd3786"
             ],
             [
              0.5555555555555556,
              "#d8576b"
             ],
             [
              0.6666666666666666,
              "#ed7953"
             ],
             [
              0.7777777777777778,
              "#fb9f3a"
             ],
             [
              0.8888888888888888,
              "#fdca26"
             ],
             [
              1,
              "#f0f921"
             ]
            ],
            "type": "contour"
           }
          ],
          "contourcarpet": [
           {
            "colorbar": {
             "outlinewidth": 0,
             "ticks": ""
            },
            "type": "contourcarpet"
           }
          ],
          "heatmap": [
           {
            "colorbar": {
             "outlinewidth": 0,
             "ticks": ""
            },
            "colorscale": [
             [
              0,
              "#0d0887"
             ],
             [
              0.1111111111111111,
              "#46039f"
             ],
             [
              0.2222222222222222,
              "#7201a8"
             ],
             [
              0.3333333333333333,
              "#9c179e"
             ],
             [
              0.4444444444444444,
              "#bd3786"
             ],
             [
              0.5555555555555556,
              "#d8576b"
             ],
             [
              0.6666666666666666,
              "#ed7953"
             ],
             [
              0.7777777777777778,
              "#fb9f3a"
             ],
             [
              0.8888888888888888,
              "#fdca26"
             ],
             [
              1,
              "#f0f921"
             ]
            ],
            "type": "heatmap"
           }
          ],
          "heatmapgl": [
           {
            "colorbar": {
             "outlinewidth": 0,
             "ticks": ""
            },
            "colorscale": [
             [
              0,
              "#0d0887"
             ],
             [
              0.1111111111111111,
              "#46039f"
             ],
             [
              0.2222222222222222,
              "#7201a8"
             ],
             [
              0.3333333333333333,
              "#9c179e"
             ],
             [
              0.4444444444444444,
              "#bd3786"
             ],
             [
              0.5555555555555556,
              "#d8576b"
             ],
             [
              0.6666666666666666,
              "#ed7953"
             ],
             [
              0.7777777777777778,
              "#fb9f3a"
             ],
             [
              0.8888888888888888,
              "#fdca26"
             ],
             [
              1,
              "#f0f921"
             ]
            ],
            "type": "heatmapgl"
           }
          ],
          "histogram": [
           {
            "marker": {
             "pattern": {
              "fillmode": "overlay",
              "size": 10,
              "solidity": 0.2
             }
            },
            "type": "histogram"
           }
          ],
          "histogram2d": [
           {
            "colorbar": {
             "outlinewidth": 0,
             "ticks": ""
            },
            "colorscale": [
             [
              0,
              "#0d0887"
             ],
             [
              0.1111111111111111,
              "#46039f"
             ],
             [
              0.2222222222222222,
              "#7201a8"
             ],
             [
              0.3333333333333333,
              "#9c179e"
             ],
             [
              0.4444444444444444,
              "#bd3786"
             ],
             [
              0.5555555555555556,
              "#d8576b"
             ],
             [
              0.6666666666666666,
              "#ed7953"
             ],
             [
              0.7777777777777778,
              "#fb9f3a"
             ],
             [
              0.8888888888888888,
              "#fdca26"
             ],
             [
              1,
              "#f0f921"
             ]
            ],
            "type": "histogram2d"
           }
          ],
          "histogram2dcontour": [
           {
            "colorbar": {
             "outlinewidth": 0,
             "ticks": ""
            },
            "colorscale": [
             [
              0,
              "#0d0887"
             ],
             [
              0.1111111111111111,
              "#46039f"
             ],
             [
              0.2222222222222222,
              "#7201a8"
             ],
             [
              0.3333333333333333,
              "#9c179e"
             ],
             [
              0.4444444444444444,
              "#bd3786"
             ],
             [
              0.5555555555555556,
              "#d8576b"
             ],
             [
              0.6666666666666666,
              "#ed7953"
             ],
             [
              0.7777777777777778,
              "#fb9f3a"
             ],
             [
              0.8888888888888888,
              "#fdca26"
             ],
             [
              1,
              "#f0f921"
             ]
            ],
            "type": "histogram2dcontour"
           }
          ],
          "mesh3d": [
           {
            "colorbar": {
             "outlinewidth": 0,
             "ticks": ""
            },
            "type": "mesh3d"
           }
          ],
          "parcoords": [
           {
            "line": {
             "colorbar": {
              "outlinewidth": 0,
              "ticks": ""
             }
            },
            "type": "parcoords"
           }
          ],
          "pie": [
           {
            "automargin": true,
            "type": "pie"
           }
          ],
          "scatter": [
           {
            "fillpattern": {
             "fillmode": "overlay",
             "size": 10,
             "solidity": 0.2
            },
            "type": "scatter"
           }
          ],
          "scatter3d": [
           {
            "line": {
             "colorbar": {
              "outlinewidth": 0,
              "ticks": ""
             }
            },
            "marker": {
             "colorbar": {
              "outlinewidth": 0,
              "ticks": ""
             }
            },
            "type": "scatter3d"
           }
          ],
          "scattercarpet": [
           {
            "marker": {
             "colorbar": {
              "outlinewidth": 0,
              "ticks": ""
             }
            },
            "type": "scattercarpet"
           }
          ],
          "scattergeo": [
           {
            "marker": {
             "colorbar": {
              "outlinewidth": 0,
              "ticks": ""
             }
            },
            "type": "scattergeo"
           }
          ],
          "scattergl": [
           {
            "marker": {
             "colorbar": {
              "outlinewidth": 0,
              "ticks": ""
             }
            },
            "type": "scattergl"
           }
          ],
          "scattermapbox": [
           {
            "marker": {
             "colorbar": {
              "outlinewidth": 0,
              "ticks": ""
             }
            },
            "type": "scattermapbox"
           }
          ],
          "scatterpolar": [
           {
            "marker": {
             "colorbar": {
              "outlinewidth": 0,
              "ticks": ""
             }
            },
            "type": "scatterpolar"
           }
          ],
          "scatterpolargl": [
           {
            "marker": {
             "colorbar": {
              "outlinewidth": 0,
              "ticks": ""
             }
            },
            "type": "scatterpolargl"
           }
          ],
          "scatterternary": [
           {
            "marker": {
             "colorbar": {
              "outlinewidth": 0,
              "ticks": ""
             }
            },
            "type": "scatterternary"
           }
          ],
          "surface": [
           {
            "colorbar": {
             "outlinewidth": 0,
             "ticks": ""
            },
            "colorscale": [
             [
              0,
              "#0d0887"
             ],
             [
              0.1111111111111111,
              "#46039f"
             ],
             [
              0.2222222222222222,
              "#7201a8"
             ],
             [
              0.3333333333333333,
              "#9c179e"
             ],
             [
              0.4444444444444444,
              "#bd3786"
             ],
             [
              0.5555555555555556,
              "#d8576b"
             ],
             [
              0.6666666666666666,
              "#ed7953"
             ],
             [
              0.7777777777777778,
              "#fb9f3a"
             ],
             [
              0.8888888888888888,
              "#fdca26"
             ],
             [
              1,
              "#f0f921"
             ]
            ],
            "type": "surface"
           }
          ],
          "table": [
           {
            "cells": {
             "fill": {
              "color": "#EBF0F8"
             },
             "line": {
              "color": "white"
             }
            },
            "header": {
             "fill": {
              "color": "#C8D4E3"
             },
             "line": {
              "color": "white"
             }
            },
            "type": "table"
           }
          ]
         },
         "layout": {
          "annotationdefaults": {
           "arrowcolor": "#2a3f5f",
           "arrowhead": 0,
           "arrowwidth": 1
          },
          "autotypenumbers": "strict",
          "coloraxis": {
           "colorbar": {
            "outlinewidth": 0,
            "ticks": ""
           }
          },
          "colorscale": {
           "diverging": [
            [
             0,
             "#8e0152"
            ],
            [
             0.1,
             "#c51b7d"
            ],
            [
             0.2,
             "#de77ae"
            ],
            [
             0.3,
             "#f1b6da"
            ],
            [
             0.4,
             "#fde0ef"
            ],
            [
             0.5,
             "#f7f7f7"
            ],
            [
             0.6,
             "#e6f5d0"
            ],
            [
             0.7,
             "#b8e186"
            ],
            [
             0.8,
             "#7fbc41"
            ],
            [
             0.9,
             "#4d9221"
            ],
            [
             1,
             "#276419"
            ]
           ],
           "sequential": [
            [
             0,
             "#0d0887"
            ],
            [
             0.1111111111111111,
             "#46039f"
            ],
            [
             0.2222222222222222,
             "#7201a8"
            ],
            [
             0.3333333333333333,
             "#9c179e"
            ],
            [
             0.4444444444444444,
             "#bd3786"
            ],
            [
             0.5555555555555556,
             "#d8576b"
            ],
            [
             0.6666666666666666,
             "#ed7953"
            ],
            [
             0.7777777777777778,
             "#fb9f3a"
            ],
            [
             0.8888888888888888,
             "#fdca26"
            ],
            [
             1,
             "#f0f921"
            ]
           ],
           "sequentialminus": [
            [
             0,
             "#0d0887"
            ],
            [
             0.1111111111111111,
             "#46039f"
            ],
            [
             0.2222222222222222,
             "#7201a8"
            ],
            [
             0.3333333333333333,
             "#9c179e"
            ],
            [
             0.4444444444444444,
             "#bd3786"
            ],
            [
             0.5555555555555556,
             "#d8576b"
            ],
            [
             0.6666666666666666,
             "#ed7953"
            ],
            [
             0.7777777777777778,
             "#fb9f3a"
            ],
            [
             0.8888888888888888,
             "#fdca26"
            ],
            [
             1,
             "#f0f921"
            ]
           ]
          },
          "colorway": [
           "#636efa",
           "#EF553B",
           "#00cc96",
           "#ab63fa",
           "#FFA15A",
           "#19d3f3",
           "#FF6692",
           "#B6E880",
           "#FF97FF",
           "#FECB52"
          ],
          "font": {
           "color": "#2a3f5f"
          },
          "geo": {
           "bgcolor": "white",
           "lakecolor": "white",
           "landcolor": "#E5ECF6",
           "showlakes": true,
           "showland": true,
           "subunitcolor": "white"
          },
          "hoverlabel": {
           "align": "left"
          },
          "hovermode": "closest",
          "mapbox": {
           "style": "light"
          },
          "paper_bgcolor": "white",
          "plot_bgcolor": "#E5ECF6",
          "polar": {
           "angularaxis": {
            "gridcolor": "white",
            "linecolor": "white",
            "ticks": ""
           },
           "bgcolor": "#E5ECF6",
           "radialaxis": {
            "gridcolor": "white",
            "linecolor": "white",
            "ticks": ""
           }
          },
          "scene": {
           "xaxis": {
            "backgroundcolor": "#E5ECF6",
            "gridcolor": "white",
            "gridwidth": 2,
            "linecolor": "white",
            "showbackground": true,
            "ticks": "",
            "zerolinecolor": "white"
           },
           "yaxis": {
            "backgroundcolor": "#E5ECF6",
            "gridcolor": "white",
            "gridwidth": 2,
            "linecolor": "white",
            "showbackground": true,
            "ticks": "",
            "zerolinecolor": "white"
           },
           "zaxis": {
            "backgroundcolor": "#E5ECF6",
            "gridcolor": "white",
            "gridwidth": 2,
            "linecolor": "white",
            "showbackground": true,
            "ticks": "",
            "zerolinecolor": "white"
           }
          },
          "shapedefaults": {
           "line": {
            "color": "#2a3f5f"
           }
          },
          "ternary": {
           "aaxis": {
            "gridcolor": "white",
            "linecolor": "white",
            "ticks": ""
           },
           "baxis": {
            "gridcolor": "white",
            "linecolor": "white",
            "ticks": ""
           },
           "bgcolor": "#E5ECF6",
           "caxis": {
            "gridcolor": "white",
            "linecolor": "white",
            "ticks": ""
           }
          },
          "title": {
           "x": 0.05
          },
          "xaxis": {
           "automargin": true,
           "gridcolor": "white",
           "linecolor": "white",
           "ticks": "",
           "title": {
            "standoff": 15
           },
           "zerolinecolor": "white",
           "zerolinewidth": 2
          },
          "yaxis": {
           "automargin": true,
           "gridcolor": "white",
           "linecolor": "white",
           "ticks": "",
           "title": {
            "standoff": 15
           },
           "zerolinecolor": "white",
           "zerolinewidth": 2
          }
         }
        },
        "title": {
         "text": "Customer Segmentation Based on Spending"
        },
        "xaxis": {
         "anchor": "y",
         "autorange": true,
         "domain": [
          0,
          1
         ],
         "range": [
          -0.5,
          3.5
         ],
         "title": {
          "text": "Customer Segment"
         },
         "type": "category"
        },
        "yaxis": {
         "anchor": "x",
         "autorange": true,
         "domain": [
          0,
          1
         ],
         "range": [
          -1386.1790555555556,
          26434.062055555554
         ],
         "title": {
          "text": "Total Spending"
         },
         "type": "linear"
        }
       }
      },
      "image/png": "[encoded data removed]",
      "text/html": [
       "<div>                            <div id=\"362449d8-34e2-4181-adcc-19f3adb9d3fd\" class=\"plotly-graph-div\" style=\"height:525px; width:100%;\"></div>            <script type=\"text/javascript\">                require([\"plotly\"], function(Plotly) {                    window.PLOTLYENV=window.PLOTLYENV || {};                                    if (document.getElementById(\"362449d8-34e2-4181-adcc-19f3adb9d3fd\")) {                    Plotly.newPlot(                        \"362449d8-34e2-4181-adcc-19f3adb9d3fd\",                        [{\"alignmentgroup\":\"True\",\"hovertemplate\":\"Customer Segment=%{x}<br>Total Spending=%{y}<extra></extra>\",\"legendgroup\":\"\",\"marker\":{\"color\":\"#636efa\"},\"name\":\"\",\"notched\":false,\"offsetgroup\":\"\",\"orientation\":\"v\",\"showlegend\":false,\"x\":[\"Low\",\"Medium\",\"High\",\"Very High\",\"High\",\"High\",\"Very High\",\"Medium\",\"Low\",\"Low\",\"Medium\",\"Very High\",\"Medium\",\"Very High\",\"Very High\",\"Low\",\"Low\",\"High\",\"High\",\"Low\",\"Very High\",\"Low\",\"Low\",\"Low\",\"Low\",\"Low\",\"High\",\"Low\",\"Medium\",\"Very High\",\"High\",\"Medium\",\"Medium\",\"Low\",\"Medium\",\"Very High\",\"Low\",\"Low\",\"Low\",\"Medium\",\"High\",\"Low\",\"Very High\",\"Low\",\"High\",\"Very High\",\"Very High\",\"Low\",\"Very High\",\"Medium\",\"Low\",\"Very High\",\"Very High\",\"Low\",\"Very High\",\"Low\",\"Very High\",\"Medium\",\"Low\",\"Very High\",\"High\",\"High\",\"Medium\",\"Low\",\"Low\",\"Low\",\"Medium\",\"High\",\"High\",\"Low\",\"Low\",\"Low\",\"High\",\"Very High\",\"High\",\"Very High\",\"Medium\",\"Very High\",\"Very High\",\"Medium\",\"Medium\",\"Medium\",\"Medium\",\"Low\",\"Low\",\"High\",\"High\",\"Very High\",\"Very High\",\"High\",\"Very High\",\"Very High\",\"Medium\",\"High\",\"Low\",\"Low\",\"Low\",\"Low\",\"Low\",\"Very High\",\"Medium\",\"High\",\"Very High\",\"Low\",\"Low\",\"High\",\"High\",\"Medium\",\"Low\",\"Very High\",\"High\",\"High\",\"Medium\",\"Very High\",\"Medium\",\"Low\",\"High\",\"Low\",\"Medium\",\"Low\",\"Medium\",\"Medium\",\"Low\",\"Low\",\"Medium\",\"Medium\",\"Medium\",\"Low\",\"High\",\"Very High\",\"Low\",\"High\",\"Very High\",\"Very High\",\"Low\",\"Medium\",\"Medium\",\"Very High\",\"Medium\",\"Medium\",\"Low\",\"High\",\"High\",\"Low\",\"Medium\",\"High\",\"High\",\"High\",\"High\",\"High\",\"Medium\",\"High\",\"Medium\",\"High\",\"Very High\",\"High\",\"Very High\",\"Very High\",\"High\",\"Medium\",\"High\",\"Low\",\"Low\",\"Medium\",\"Low\",\"Very High\",\"Medium\",\"Very High\",\"Low\",\"Very High\",\"Medium\",\"High\",\"High\",\"Low\",\"Medium\",\"Very High\",\"High\",\"High\",\"High\",\"Very High\",\"Medium\",\"Medium\",\"Medium\",\"High\",\"Medium\",\"High\",\"Medium\",\"High\",\"High\",\"Low\",\"Very High\",\"Very High\",\"Medium\",\"High\",\"Very High\",\"Medium\",\"High\",\"Medium\",\"Low\",\"Very High\",\"Medium\",\"Medium\",\"Very High\",\"High\",\"High\",\"Medium\",\"High\",\"High\",\"Low\",\"Low\",\"High\",\"Low\",\"High\",\"Very High\",\"Very High\",\"High\",\"Very High\",\"Medium\",\"High\",\"Medium\",\"Low\",\"Very High\",\"Low\",\"High\",\"Very High\",\"Medium\",\"Medium\",\"Medium\",\"Low\",\"High\",\"Very High\",\"High\",\"High\",\"Medium\",\"Low\",\"Very High\",\"Low\",\"Medium\",\"Low\",\"Medium\",\"High\",\"Medium\",\"Medium\",\"Low\",\"Medium\",\"High\",\"Medium\",\"Low\",\"High\",\"Very High\",\"Medium\",\"Medium\",\"High\",\"High\",\"Low\",\"Medium\",\"High\",\"High\",\"Medium\",\"Very High\",\"Low\",\"Low\",\"Low\",\"Medium\",\"Low\",\"Medium\",\"High\",\"High\",\"Low\",\"Low\",\"Very High\",\"Low\",\"High\",\"High\",\"Very High\",\"High\",\"Medium\",\"Low\",\"Low\",\"High\",\"High\",\"High\",\"Medium\",\"Very High\",\"Very High\",\"High\",\"Very High\",\"Very High\",\"High\",\"Very High\",\"High\",\"Low\",\"High\",\"Very High\",\"High\",\"High\",\"Very High\",\"Medium\",\"Medium\",\"Very High\",\"Medium\",\"High\",\"Medium\",\"Very High\",\"Medium\",\"Medium\",\"Very High\",\"Very High\",\"High\",\"Low\",\"High\",\"Very High\",\"Very High\",\"Medium\",\"Low\",\"Low\",\"Low\",\"Low\",\"Low\",\"Medium\",\"Very High\",\"Low\",\"Very High\",\"Low\",\"Very High\",\"Medium\",\"High\",\"Very High\",\"Low\",\"High\",\"Low\",\"High\",\"Low\",\"Very High\",\"Very High\",\"Low\",\"Very High\",\"Low\",\"Very High\",\"High\",\"Medium\",\"High\",\"Very High\",\"Medium\",\"High\",\"Very High\",\"Very High\",\"Medium\",\"High\",\"Medium\",\"Medium\",\"Low\",\"High\",\"Low\",\"Low\",\"Medium\",\"Medium\",\"Low\",\"Medium\",\"High\",\"Low\",\"Low\",\"Medium\",\"Medium\",\"Low\",\"High\",\"High\",\"Medium\",\"Medium\",\"Very High\",\"Low\",\"Medium\",\"Very High\",\"Very High\",\"Very High\",\"Low\",\"Medium\",\"Low\",\"Low\",\"Very High\",\"Very High\",\"Very High\",\"Low\",\"High\",\"Medium\",\"Medium\",\"Low\",\"Very High\",\"High\",\"Very High\",\"Very High\",\"Very High\",\"Low\",\"Low\",\"Low\",\"Low\",\"Very High\",\"Very High\",\"Low\",\"Low\",\"High\",\"High\",\"Low\",\"Medium\",\"Very High\",\"Low\",\"High\",\"Medium\",\"Very High\",\"High\",\"High\",\"High\",\"Medium\",\"High\",\"High\",\"Medium\",\"Very High\",\"Very High\",\"Low\",\"Medium\",\"High\",\"Medium\",\"High\",\"Very High\",\"High\",\"Low\",\"Medium\",\"Very High\",\"Medium\",\"High\",\"Very High\",\"Very High\",\"Very High\",\"Medium\",\"Very High\",\"Very High\",\"Low\",\"High\",\"Low\",\"Low\",\"Very High\",\"Very High\",\"Low\",\"Medium\",\"Very High\",\"Medium\",\"Very High\",\"Low\",\"Low\",\"Low\",\"Very High\",\"Very High\",\"Medium\",\"High\",\"High\",\"Low\",\"High\",\"Very High\",\"High\",\"Very High\",\"Very High\",\"High\",\"High\",\"High\",\"High\",\"Medium\",\"Low\",\"Medium\",\"Medium\",\"Medium\",\"Low\",\"High\",\"High\",\"Medium\",\"High\",\"Medium\",\"Low\",\"Very High\",\"Low\",\"Very High\",\"Low\",\"Low\",\"Medium\",\"High\",\"Medium\",\"Medium\",\"Very High\",\"Low\",\"High\",\"Very High\",\"High\",\"High\",\"High\",\"Very High\",\"Low\",\"Medium\",\"High\",\"Medium\",\"Low\",\"High\",\"Low\",\"Low\",\"Very High\",\"Medium\",\"High\",\"High\",\"Medium\",\"Low\",\"Very High\",\"Low\",\"High\",\"Medium\",\"Medium\",\"Medium\",\"Very High\",\"Medium\",\"High\",\"Medium\",\"Medium\",\"High\",\"Low\",\"Very High\",\"Medium\",\"Medium\",\"Low\",\"High\",\"High\",\"High\",\"Low\",\"Very High\",\"Low\",\"High\",\"Medium\",\"High\",\"Low\",\"High\",\"Medium\",\"Medium\",\"High\",\"Very High\",\"Medium\",\"High\",\"Low\",\"Very High\",\"Medium\",\"Low\",\"Very High\",\"Very High\",\"Medium\",\"Low\",\"Low\",\"High\",\"Medium\",\"Very High\",\"High\",\"Medium\",\"Very High\",\"Very High\",\"Very High\",\"High\",\"Medium\",\"Very High\",\"High\",\"Low\",\"Low\",\"High\",\"Medium\",\"Very High\",\"High\",\"High\",\"Low\",\"Medium\",\"High\",\"Medium\",\"High\",\"Medium\",\"Very High\",\"Medium\",\"Very High\",\"Medium\",\"Very High\",\"Medium\",\"Medium\",\"Medium\",\"Low\",\"Low\",\"High\",\"Medium\",\"Very High\",\"High\",\"Medium\",\"Medium\",\"Medium\",\"Low\",\"Medium\",\"Very High\",\"Medium\",\"High\",\"Low\",\"Medium\",\"High\",\"Very High\",\"Low\",\"Very High\",\"Low\",\"Low\",\"Very High\",\"Very High\",\"Medium\",\"High\",\"Very High\",\"Low\",\"Low\",\"Medium\",\"Very High\",\"Very High\",\"Low\",\"High\",\"Medium\",\"Low\",\"Low\",\"High\",\"Very High\",\"Medium\",\"Very High\",\"Low\",\"High\",\"Medium\",\"Low\",\"Very High\",\"Very High\",\"High\",\"Very High\",\"High\",\"Very High\",\"Low\",\"Low\",\"High\",\"Medium\",\"Very High\",\"High\",\"Low\",\"High\",\"Very High\",\"High\",\"Medium\",\"Medium\",\"High\",\"Low\",\"Very High\",\"Very High\",\"Very High\",\"Medium\",\"Low\",\"Low\",\"Medium\",\"Low\",\"High\",\"High\",\"Very High\",\"Low\",\"Medium\",\"Low\",\"High\",\"Low\",\"Low\",\"High\",\"High\",\"Very High\",\"Low\",\"High\",\"Very High\",\"Very High\",\"Very High\",\"Medium\",\"High\",\"Medium\",\"Very High\",\"High\",\"Medium\",\"Very High\",\"Medium\",\"Very High\",\"Medium\",\"Very High\",\"High\",\"Very High\",\"High\",\"Low\",\"Very High\",\"Very High\",\"Medium\",\"High\",\"High\",\"Medium\",\"High\",\"Medium\",\"Very High\",\"Medium\",\"Low\",\"Low\",\"Medium\",\"Medium\",\"Low\",\"Low\",\"High\",\"Very High\",\"Medium\",\"Medium\",\"High\",\"Medium\",\"High\",\"High\",\"Very High\",\"Very High\",\"Low\",\"Very High\",\"Very High\",\"Low\",\"Medium\",\"Very High\",\"Low\",\"Very High\",\"Low\",\"Low\",\"Low\",\"Very High\",\"Medium\",\"Very High\",\"High\",\"Very High\",\"Medium\",\"High\",\"Very High\",\"High\",\"Medium\",\"Very High\",\"Low\",\"High\",\"High\",\"Very High\",\"Low\",\"Medium\",\"High\",\"Low\",\"Very High\",\"Medium\",\"Low\",\"Medium\",\"Low\",\"Medium\",\"Very High\",\"High\",\"Low\",\"Low\",\"Low\",\"Very High\",\"Very High\",\"Very High\",\"Very High\",\"Medium\",\"Very High\",\"Medium\",\"Medium\",\"High\",\"Very High\",\"Low\",\"Very High\",\"Medium\",\"Medium\",\"Medium\",\"High\",\"High\",\"Medium\",\"High\",\"Very High\",\"High\",\"Medium\",\"Low\",\"Low\",\"Medium\",\"High\",\"Very High\",\"Low\",\"Low\",\"Low\",\"Low\",\"Very High\",\"High\",\"Very High\",\"Very High\",\"Very High\",\"Medium\"],\"x0\":\" \",\"xaxis\":\"x\",\"y\":[886.156,1744.7,3050.692,7755.62,3250.337,3255.31,14473.570999999998,1735.5140000000001,58.82,966.71,1113.838,6106.88,1587.452,4805.344,4260.784,503.968,914.5319999999999,2582.898,3214.236,367.548,5563.56,660.972,1055.694,814.012,1056.39,200.945,2236.128,925.8,1166.0720000000001,5527.846,2495.3916,1790.5120000000002,1419.247,264.86400000000003,1455.038,6608.448,497.014,88.15,738.504,1515.862,2537.6859999999997,833.398,5086.9349999999995,657.316,3489.0396000000005,7888.294,5664.022,545.932,3831.864,1622.0179999999998,170.584,4867.344,4501.391,161.28,4523.336,649.376,4375.786,2052.908,861.565,4510.797,3323.556,2852.968,1829.896,629.2479999999999,599.798,744.3399999999999,1333.88,2888.506,2798.948,983.42,385.516,272.95,2442.044,4750.358,2933.676,11789.63,1697.8609999999999,5907.972,3675.861,1738.406,1585.162,1181.49,1523.2730000000001,659.1379999999999,791.9899999999999,2475.157,2567.656,5718.521,4204.676,2682.728,10501.653,3887.834,2186.6130000000003,2261.438,130.83,603.876,748.026,265.296,415.19599999999997,4411.2429999999995,1459.344,2684.4919999999997,6765.728,320.54,808.162,2454.928,2783.189,1538.11,582.646,7294.185,3288.1099999999997,3196.752,1874.172,6255.351,1526.5,1006.356,2562.382,658.466,1338.842,949.4300000000001,1673.888,1278.954,537.632,16.52,1262.0140000000001,1136.592,2033.968,565.392,3036.547,3789.7228,639.766,3241.898,11164.974,5730.669,904.4680000000001,1679.7240000000002,1537.236,5402.254,1685.889,1661.6100000000001,884.64,2471.65,2533.314,844.4580000000001,1475.144,3154.855,3670.258,2305.712,2754.216,2638.3272,1205.584,2830.6279999999997,1421.954,2945.321,5817.187,3202.1620000000003,12129.072000000002,8954.019999999999,3651.8585000000003,1949.2,2870.05,287.99,550.644,1659.438,970.1105,5690.054999999999,1148.7800000000002,4246.4555,113.832,10880.546,2148.852,2372.75,2540.631,475.9,1300.076,5890.508,2269.7015,2854.1150000000002,2335.586,3984.4524,1600.55,2004.0819999999999,1582.109,3041.566,1860.732,2370.3136,1397.8724,3256.48,3336.168,444.024,6528.034000000001,4282.176,2171.599,3272.2,8350.868,1322.034,2469.6672,1687.04,897.524,6345.103,1762.213,1119.483,4151.51,3487.1980000000003,2650.557,2215.002,2973.094,2390.534,797.832,1058.616,2881.8128,1080.751,2332.577,4802.394,7198.7609999999995,2550.874,4655.897,1174.618,3195.818,1458.258,585.02,4074.4719999999998,1081.466,3318.486,5480.723999999999,1711.692,2012.52,1300.0315,156.76,3254.487,5271.628,3539.322,2501.6879999999996,1376.792,344.08,3908.8028,269.542,1204.854,755.602,1989.05,3356.398,1267.316,1155.202,1043.096,2139.79,3644.978,2162.174,124.28,3236.314,9940.380000000001,2199.366,1303.478,2567.0099999999998,2339.598,964.448,1245.788,2767.219,3484.92,1832.02,5478.0608,944.6000000000001,684.1709999999999,933.704,1643.255,825.9499999999999,1219.53,3510.4579999999996,2752.441,461.914,228.99,4657.924,1041.0420000000001,3071.126,3082.653,4588.436000000001,2656.691,1186.326,923.884,366.822,2456.638,2984.054,3418.742,1383.144,4256.272,3736.198,2678.438,4046.746,3889.366,2271.284,6987.196,2523.266,79.75,2819.4669999999996,4172.8460000000005,3582.8199999999997,3078.624,4355.150000000001,1361.2440000000001,1255.682,3797.2320000000004,1568.44,2454.6220000000003,1284.38,4716.288,1888.07,2189.019,6497.27,9351.212,2224.0,146.94080000000002,3163.628,6049.966,11820.119999999999,1398.382,236.53,226.436,940.588,251.36,755.462,1990.314,5248.787,785.628,8236.7648,358.1,4877.784,2163.3,2584.158,4827.934,886.52,3247.642,736.276,2533.1639999999998,218.668,3690.284,12873.297999999999,48.4,4930.474,744.574,5040.736,2358.676,1214.956,3254.949,6366.392,1571.523,2239.606,4262.2919999999995,7721.714,2203.7,3159.1220000000003,1804.146,1934.272,955.124,2240.58,383.812,71.263,1911.844,2136.458,1058.108,1791.605,2309.432,309.281,709.178,1669.135,1388.682,890.95,3173.874,3635.594,1733.443,1090.838,4198.332,303.948,1417.654,7754.976,3760.028,4760.434,864.947,1156.658,990.1959999999999,863.88,8697.842999999999,4769.9,6760.8150000000005,195.0,2772.055,2152.352,1507.018,528.91,9576.343,2725.256,7625.076000000001,3868.02,7610.8640000000005,959.477,900.552,469.169,1049.2379999999998,6491.026,7954.9980000000005,644.1188,385.43,2516.494,2518.115,695.442,1428.731,3747.668,858.576,2932.484,1707.71,8828.0305,2697.248,2256.3940000000002,2833.9260000000004,2201.686,2260.958,3152.6150000000002,2120.954,8282.358,10604.266,88.472,1569.464,3312.864,1888.964,3100.612,5620.186,2224.0860000000002,908.821,1453.2812000000001,4416.5199999999995,2171.962,3057.1,4642.088400000001,8181.256,5229.695000000001,1519.506,3908.262,5016.488,449.096,2744.742,983.922,907.158,3918.9660000000003,14175.229000000001,453.538,1146.05,5990.799,2003.01,4909.472,50.188,287.426,329.876,8673.222,4985.676,1469.45,2238.061,2454.554,5.304,2580.7039999999997,7663.126,2295.332,5142.892,4492.946,2845.27,3246.626,2988.674,3230.308,1961.934,318.239,1879.306,2095.064,1346.774,756.606,3104.439,2936.252,1259.04,2633.582,1739.689,644.35,3930.5089999999996,1010.2560000000001,5420.514,368.88000000000005,1008.1360000000001,1314.023,2725.982,1691.505,1548.702,10663.728000000001,593.606,2716.412,7443.6900000000005,2254.285,2722.843,2885.26,4432.138,400.016,2146.694,2945.822,1560.05,922.487,2564.906,475.65599999999995,639.178,4299.161,1303.893,2426.067,2258.192,1252.8,795.154,3785.276,937.039,2350.188,1342.282,1613.402,1908.4532,6320.746,2071.9139999999998,3144.678,2203.7780000000002,1687.0269999999998,2890.139,370.348,3805.714,1204.91,1242.8329999999999,776.384,2302.368,3640.2560000000003,2477.946,154.288,3983.6420000000003,855.116,2453.284,1256.944,2984.948,742.082,2749.881,1319.4498,1428.231,2218.98,5503.093,1581.9979999999998,3061.543,1031.602,4757.332,1734.574,16.739,5341.900000000001,5253.876,1758.3,162.232,775.414,3601.88,1418.0900000000001,5529.62,2461.404,1869.58,4326.139,8080.474,7234.014,2218.9900000000002,1395.9379999999999,6459.344,2893.455,377.16200000000003,572.048,2575.863,2161.979,8241.739,2367.277,2488.31,273.87199999999996,2031.472,2518.6659999999997,1821.742,2857.753,1972.599,3908.402,1164.73,7903.1825,1567.52,3818.624,1832.064,2181.479,1467.152,729.648,740.356,3086.907,1220.09,7473.8282,2493.214,1840.178,1987.164,1441.152,239.481,1405.402,7252.608,1278.639,2876.046,1061.488,1677.536,3454.916,6843.634,729.408,8646.934,158.46,688.324,9062.864,4115.662,1456.95,2770.0,4893.043,1056.858,132.738,2206.1279999999997,3922.4150000000004,6108.338,954.6452,2617.906,1460.192,615.932,1008.1959999999999,3309.15,15117.339,1453.474,5153.084,48.36,3221.29,1864.156,666.52,4715.466,4272.93,3621.3759999999997,6979.18,3302.2619999999997,7397.401,740.382,528.546,2832.904,2085.7400000000002,6234.91,3279.746,221.084,2745.892,5979.0960000000005,3495.646,2067.45,1419.737,2341.2960000000003,98.35,4159.7699999999995,3815.478,5633.316000000001,1137.616,966.409,938.862,2055.356,22.328,3546.224,3133.924,4793.543,970.9420000000001,1686.9225,652.644,2465.6594999999998,883.409,244.49399999999997,3362.9636,3625.329,4624.572,763.5459999999999,3406.5809999999997,14142.333999999999,12209.438000000002,3949.656,1324.028,3046.532,1348.02,6410.996,3422.7859999999996,1341.036,4371.9580000000005,1085.078,3729.7929999999997,1966.65,8057.891,3650.473,25043.05,2602.5755,1019.044,11470.949999999999,5992.536,2180.718,3056.8070000000002,3233.481,1874.998,2835.564,1884.798,6121.114,1318.776,613.4,433.34000000000003,1306.086,1860.418,799.798,418.49,3118.892,5440.319,2096.392,1872.4360000000001,2595.364,1254.64,2576.408,3127.9592,5226.21,4345.8859999999995,758.6959999999999,4492.657,4105.305,279.25600000000003,1271.0900000000001,4767.3415,14.112,4282.94,964.636,47.946,1043.041,3990.689,1903.491,4464.862,3336.535,19052.218,1434.5480000000002,2819.026,5278.826,3130.221,1451.361,4915.602,4.833,2422.824,2942.772,4454.0560000000005,1038.26,2163.6240000000003,3589.296,816.1740000000001,5371.09,1427.0439999999999,1022.201,1602.376,439.5,2198.45,4266.812,3058.372,675.9419999999999,974.7819999999999,834.328,11891.751,14595.62,9108.742,5329.0048,2054.14,5364.808,1244.976,1094.6779999999999,2243.274,4737.486,742.5580000000001,4234.0960000000005,1936.6399999999999,1707.286,1240.871,2820.424,2797.668,2074.661,3368.094,6442.254,2454.866,1736.596,847.944,993.9019999999999,2005.596,3360.526,6134.0380000000005,846.01,418.432,1055.981,380.69,6129.71,2374.658,6720.4439999999995,5454.35,8025.707,1493.944],\"y0\":\" \",\"yaxis\":\"y\",\"type\":\"box\"}],                        {\"template\":{\"data\":{\"histogram2dcontour\":[{\"type\":\"histogram2dcontour\",\"colorbar\":{\"outlinewidth\":0,\"ticks\":\"\"},\"colorscale\":[[0.0,\"#0d0887\"],[0.1111111111111111,\"#46039f\"],[0.2222222222222222,\"#7201a8\"],[0.3333333333333333,\"#9c179e\"],[0.4444444444444444,\"#bd3786\"],[0.5555555555555556,\"#d8576b\"],[0.6666666666666666,\"#ed7953\"],[0.7777777777777778,\"#fb9f3a\"],[0.8888888888888888,\"#fdca26\"],[1.0,\"#f0f921\"]]}],\"choropleth\":[{\"type\":\"choropleth\",\"colorbar\":{\"outlinewidth\":0,\"ticks\":\"\"}}],\"histogram2d\":[{\"type\":\"histogram2d\",\"colorbar\":{\"outlinewidth\":0,\"ticks\":\"\"},\"colorscale\":[[0.0,\"#0d0887\"],[0.1111111111111111,\"#46039f\"],[0.2222222222222222,\"#7201a8\"],[0.3333333333333333,\"#9c179e\"],[0.4444444444444444,\"#bd3786\"],[0.5555555555555556,\"#d8576b\"],[0.6666666666666666,\"#ed7953\"],[0.7777777777777778,\"#fb9f3a\"],[0.8888888888888888,\"#fdca26\"],[1.0,\"#f0f921\"]]}],\"heatmap\":[{\"type\":\"heatmap\",\"colorbar\":{\"outlinewidth\":0,\"ticks\":\"\"},\"colorscale\":[[0.0,\"#0d0887\"],[0.1111111111111111,\"#46039f\"],[0.2222222222222222,\"#7201a8\"],[0.3333333333333333,\"#9c179e\"],[0.4444444444444444,\"#bd3786\"],[0.5555555555555556,\"#d8576b\"],[0.6666666666666666,\"#ed7953\"],[0.7777777777777778,\"#fb9f3a\"],[0.8888888888888888,\"#fdca26\"],[1.0,\"#f0f921\"]]}],\"heatmapgl\":[{\"type\":\"heatmapgl\",\"colorbar\":{\"outlinewidth\":0,\"ticks\":\"\"},\"colorscale\":[[0.0,\"#0d0887\"],[0.1111111111111111,\"#46039f\"],[0.2222222222222222,\"#7201a8\"],[0.3333333333333333,\"#9c179e\"],[0.4444444444444444,\"#bd3786\"],[0.5555555555555556,\"#d8576b\"],[0.6666666666666666,\"#ed7953\"],[0.7777777777777778,\"#fb9f3a\"],[0.8888888888888888,\"#fdca26\"],[1.0,\"#f0f921\"]]}],\"contourcarpet\":[{\"type\":\"contourcarpet\",\"colorbar\":{\"outlinewidth\":0,\"ticks\":\"\"}}],\"contour\":[{\"type\":\"contour\",\"colorbar\":{\"outlinewidth\":0,\"ticks\":\"\"},\"colorscale\":[[0.0,\"#0d0887\"],[0.1111111111111111,\"#46039f\"],[0.2222222222222222,\"#7201a8\"],[0.3333333333333333,\"#9c179e\"],[0.4444444444444444,\"#bd3786\"],[0.5555555555555556,\"#d8576b\"],[0.6666666666666666,\"#ed7953\"],[0.7777777777777778,\"#fb9f3a\"],[0.8888888888888888,\"#fdca26\"],[1.0,\"#f0f921\"]]}],\"surface\":[{\"type\":\"surface\",\"colorbar\":{\"outlinewidth\":0,\"ticks\":\"\"},\"colorscale\":[[0.0,\"#0d0887\"],[0.1111111111111111,\"#46039f\"],[0.2222222222222222,\"#7201a8\"],[0.3333333333333333,\"#9c179e\"],[0.4444444444444444,\"#bd3786\"],[0.5555555555555556,\"#d8576b\"],[0.6666666666666666,\"#ed7953\"],[0.7777777777777778,\"#fb9f3a\"],[0.8888888888888888,\"#fdca26\"],[1.0,\"#f0f921\"]]}],\"mesh3d\":[{\"type\":\"mesh3d\",\"colorbar\":{\"outlinewidth\":0,\"ticks\":\"\"}}],\"scatter\":[{\"fillpattern\":{\"fillmode\":\"overlay\",\"size\":10,\"solidity\":0.2},\"type\":\"scatter\"}],\"parcoords\":[{\"type\":\"parcoords\",\"line\":{\"colorbar\":{\"outlinewidth\":0,\"ticks\":\"\"}}}],\"scatterpolargl\":[{\"type\":\"scatterpolargl\",\"marker\":{\"colorbar\":{\"outlinewidth\":0,\"ticks\":\"\"}}}],\"bar\":[{\"error_x\":{\"color\":\"#2a3f5f\"},\"error_y\":{\"color\":\"#2a3f5f\"},\"marker\":{\"line\":{\"color\":\"#E5ECF6\",\"width\":0.5},\"pattern\":{\"fillmode\":\"overlay\",\"size\":10,\"solidity\":0.2}},\"type\":\"bar\"}],\"scattergeo\":[{\"type\":\"scattergeo\",\"marker\":{\"colorbar\":{\"outlinewidth\":0,\"ticks\":\"\"}}}],\"scatterpolar\":[{\"type\":\"scatterpolar\",\"marker\":{\"colorbar\":{\"outlinewidth\":0,\"ticks\":\"\"}}}],\"histogram\":[{\"marker\":{\"pattern\":{\"fillmode\":\"overlay\",\"size\":10,\"solidity\":0.2}},\"type\":\"histogram\"}],\"scattergl\":[{\"type\":\"scattergl\",\"marker\":{\"colorbar\":{\"outlinewidth\":0,\"ticks\":\"\"}}}],\"scatter3d\":[{\"type\":\"scatter3d\",\"line\":{\"colorbar\":{\"outlinewidth\":0,\"ticks\":\"\"}},\"marker\":{\"colorbar\":{\"outlinewidth\":0,\"ticks\":\"\"}}}],\"scattermapbox\":[{\"type\":\"scattermapbox\",\"marker\":{\"colorbar\":{\"outlinewidth\":0,\"ticks\":\"\"}}}],\"scatterternary\":[{\"type\":\"scatterternary\",\"marker\":{\"colorbar\":{\"outlinewidth\":0,\"ticks\":\"\"}}}],\"scattercarpet\":[{\"type\":\"scattercarpet\",\"marker\":{\"colorbar\":{\"outlinewidth\":0,\"ticks\":\"\"}}}],\"carpet\":[{\"aaxis\":{\"endlinecolor\":\"#2a3f5f\",\"gridcolor\":\"white\",\"linecolor\":\"white\",\"minorgridcolor\":\"white\",\"startlinecolor\":\"#2a3f5f\"},\"baxis\":{\"endlinecolor\":\"#2a3f5f\",\"gridcolor\":\"white\",\"linecolor\":\"white\",\"minorgridcolor\":\"white\",\"startlinecolor\":\"#2a3f5f\"},\"type\":\"carpet\"}],\"table\":[{\"cells\":{\"fill\":{\"color\":\"#EBF0F8\"},\"line\":{\"color\":\"white\"}},\"header\":{\"fill\":{\"color\":\"#C8D4E3\"},\"line\":{\"color\":\"white\"}},\"type\":\"table\"}],\"barpolar\":[{\"marker\":{\"line\":{\"color\":\"#E5ECF6\",\"width\":0.5},\"pattern\":{\"fillmode\":\"overlay\",\"size\":10,\"solidity\":0.2}},\"type\":\"barpolar\"}],\"pie\":[{\"automargin\":true,\"type\":\"pie\"}]},\"layout\":{\"autotypenumbers\":\"strict\",\"colorway\":[\"#636efa\",\"#EF553B\",\"#00cc96\",\"#ab63fa\",\"#FFA15A\",\"#19d3f3\",\"#FF6692\",\"#B6E880\",\"#FF97FF\",\"#FECB52\"],\"font\":{\"color\":\"#2a3f5f\"},\"hovermode\":\"closest\",\"hoverlabel\":{\"align\":\"left\"},\"paper_bgcolor\":\"white\",\"plot_bgcolor\":\"#E5ECF6\",\"polar\":{\"bgcolor\":\"#E5ECF6\",\"angularaxis\":{\"gridcolor\":\"white\",\"linecolor\":\"white\",\"ticks\":\"\"},\"radialaxis\":{\"gridcolor\":\"white\",\"linecolor\":\"white\",\"ticks\":\"\"}},\"ternary\":{\"bgcolor\":\"#E5ECF6\",\"aaxis\":{\"gridcolor\":\"white\",\"linecolor\":\"white\",\"ticks\":\"\"},\"baxis\":{\"gridcolor\":\"white\",\"linecolor\":\"white\",\"ticks\":\"\"},\"caxis\":{\"gridcolor\":\"white\",\"linecolor\":\"white\",\"ticks\":\"\"}},\"coloraxis\":{\"colorbar\":{\"outlinewidth\":0,\"ticks\":\"\"}},\"colorscale\":{\"sequential\":[[0.0,\"#0d0887\"],[0.1111111111111111,\"#46039f\"],[0.2222222222222222,\"#7201a8\"],[0.3333333333333333,\"#9c179e\"],[0.4444444444444444,\"#bd3786\"],[0.5555555555555556,\"#d8576b\"],[0.6666666666666666,\"#ed7953\"],[0.7777777777777778,\"#fb9f3a\"],[0.8888888888888888,\"#fdca26\"],[1.0,\"#f0f921\"]],\"sequentialminus\":[[0.0,\"#0d0887\"],[0.1111111111111111,\"#46039f\"],[0.2222222222222222,\"#7201a8\"],[0.3333333333333333,\"#9c179e\"],[0.4444444444444444,\"#bd3786\"],[0.5555555555555556,\"#d8576b\"],[0.6666666666666666,\"#ed7953\"],[0.7777777777777778,\"#fb9f3a\"],[0.8888888888888888,\"#fdca26\"],[1.0,\"#f0f921\"]],\"diverging\":[[0,\"#8e0152\"],[0.1,\"#c51b7d\"],[0.2,\"#de77ae\"],[0.3,\"#f1b6da\"],[0.4,\"#fde0ef\"],[0.5,\"#f7f7f7\"],[0.6,\"#e6f5d0\"],[0.7,\"#b8e186\"],[0.8,\"#7fbc41\"],[0.9,\"#4d9221\"],[1,\"#276419\"]]},\"xaxis\":{\"gridcolor\":\"white\",\"linecolor\":\"white\",\"ticks\":\"\",\"title\":{\"standoff\":15},\"zerolinecolor\":\"white\",\"automargin\":true,\"zerolinewidth\":2},\"yaxis\":{\"gridcolor\":\"white\",\"linecolor\":\"white\",\"ticks\":\"\",\"title\":{\"standoff\":15},\"zerolinecolor\":\"white\",\"automargin\":true,\"zerolinewidth\":2},\"scene\":{\"xaxis\":{\"backgroundcolor\":\"#E5ECF6\",\"gridcolor\":\"white\",\"linecolor\":\"white\",\"showbackground\":true,\"ticks\":\"\",\"zerolinecolor\":\"white\",\"gridwidth\":2},\"yaxis\":{\"backgroundcolor\":\"#E5ECF6\",\"gridcolor\":\"white\",\"linecolor\":\"white\",\"showbackground\":true,\"ticks\":\"\",\"zerolinecolor\":\"white\",\"gridwidth\":2},\"zaxis\":{\"backgroundcolor\":\"#E5ECF6\",\"gridcolor\":\"white\",\"linecolor\":\"white\",\"showbackground\":true,\"ticks\":\"\",\"zerolinecolor\":\"white\",\"gridwidth\":2}},\"shapedefaults\":{\"line\":{\"color\":\"#2a3f5f\"}},\"annotationdefaults\":{\"arrowcolor\":\"#2a3f5f\",\"arrowhead\":0,\"arrowwidth\":1},\"geo\":{\"bgcolor\":\"white\",\"landcolor\":\"#E5ECF6\",\"subunitcolor\":\"white\",\"showland\":true,\"showlakes\":true,\"lakecolor\":\"white\"},\"title\":{\"x\":0.05},\"mapbox\":{\"style\":\"light\"}}},\"xaxis\":{\"anchor\":\"y\",\"domain\":[0.0,1.0],\"title\":{\"text\":\"Customer Segment\"}},\"yaxis\":{\"anchor\":\"x\",\"domain\":[0.0,1.0],\"title\":{\"text\":\"Total Spending\"}},\"legend\":{\"tracegroupgap\":0},\"title\":{\"text\":\"Customer Segmentation Based on Spending\"},\"boxmode\":\"group\"},                        {\"responsive\": true}                    ).then(function(){\n",
       "                            \n",
       "var gd = document.getElementById('362449d8-34e2-4181-adcc-19f3adb9d3fd');\n",
       "var x = new MutationObserver(function (mutations, observer) {{\n",
       "        var display = window.getComputedStyle(gd).display;\n",
       "        if (!display || display === 'none') {{\n",
       "            console.log([gd, 'removed!']);\n",
       "            Plotly.purge(gd);\n",
       "            observer.disconnect();\n",
       "        }}\n",
       "}});\n",
       "\n",
       "// Listen for the removal of the full notebook cells\n",
       "var notebookContainer = gd.closest('#notebook-container');\n",
       "if (notebookContainer) {{\n",
       "    x.observe(notebookContainer, {childList: true});\n",
       "}}\n",
       "\n",
       "// Listen for the clearing of the current output cell\n",
       "var outputEl = gd.closest('.output');\n",
       "if (outputEl) {{\n",
       "    x.observe(outputEl, {childList: true});\n",
       "}}\n",
       "\n",
       "                        })                };                });            </script>        </div>"
      ]
     },
     "metadata": {},
     "output_type": "display_data"
    }
   ],
   "source": [
    "# Segment customers by total spending\n",
    "customer_spending = data_filtered.groupby('Customer Name')['Sales'].sum().reset_index()\n",
    "customer_spending['Segment'] = pd.qcut(customer_spending['Sales'], q=4, labels=['Low', 'Medium', 'High', 'Very High'])\n",
    "\n",
    "# Plotting customer segmentation\n",
    "fig = px.box(customer_spending, x='Segment', y='Sales',\n",
    "             title='Customer Segmentation Based on Spending',\n",
    "             labels={'Sales': 'Total Spending', 'Segment': 'Customer Segment'})\n",
    "fig.show()"
   ]
  },
  {
   "cell_type": "markdown",
   "id": "7c04ebaa-8035-4ae5-87c5-5f530b6c8c50",
   "metadata": {},
   "source": [
    "**Average Order Value (AOV)**\n",
    "\n",
    "Calculating and visualization the average order value (AOV) for each customer to understand their spending behavior."
   ]
  },
  {
   "cell_type": "code",
   "execution_count": 29,
   "id": "68539dff-b29f-436e-8530-8b3181330432",
   "metadata": {},
   "outputs": [],
   "source": [
    "#calculating Average Order Value for each customer\n",
    "aov = data_filtered.groupby('Customer Name')['Sales'].mean().reset_index()\n",
    "aov.columns = ['Customer Name', 'Average Order Value']"
   ]
  },
  {
   "cell_type": "code",
   "execution_count": 33,
   "id": "87b7c0c6-2be9-48bc-b97b-22212eaeeeed",
   "metadata": {},
   "outputs": [
    {
     "data": {
      "application/vnd.plotly.v1+json": {
       "config": {
        "plotlyServerURL": "https://plot.ly"
       },
       "data": [
        {
         "alignmentgroup": "True",
         "hovertemplate": "Average Order Value=%{text}<br>Customer Name=%{y}<extra></extra>",
         "legendgroup": "",
         "marker": {
          "color": "#636efa",
          "pattern": {
           "shape": ""
          }
         },
         "name": "",
         "offsetgroup": "",
         "orientation": "h",
         "showlegend": false,
         "text": [
          1751.2920000000001,
          1669.5366666666666,
          1587.6848333333335,
          1558.5353333333333,
          1459.5620000000001,
          1170.2998181818182,
          1166.8503333333333,
          1102.6429090909094,
          1048.196,
          895.4019999999998
         ],
         "textposition": "outside",
         "texttemplate": "%{text:.2s}",
         "type": "bar",
         "x": [
          1751.2920000000001,
          1669.5366666666666,
          1587.6848333333335,
          1558.5353333333333,
          1459.5620000000001,
          1170.2998181818182,
          1166.8503333333333,
          1102.6429090909094,
          1048.196,
          895.4019999999998
         ],
         "xaxis": "x",
         "y": [
          "Mitch Willingham",
          "Sean Miller",
          "Tamara Chand",
          "Grant Thornton",
          "Tom Ashbrook",
          "Hunter Lopez",
          "Bill Shonely",
          "Christopher Conant",
          "Stefanie Holloman",
          "Christopher Martinez"
         ],
         "yaxis": "y"
        }
       ],
       "layout": {
        "autosize": true,
        "barmode": "relative",
        "legend": {
         "tracegroupgap": 0
        },
        "template": {
         "data": {
          "bar": [
           {
            "error_x": {
             "color": "#2a3f5f"
            },
            "error_y": {
             "color": "#2a3f5f"
            },
            "marker": {
             "line": {
              "color": "#E5ECF6",
              "width": 0.5
             },
             "pattern": {
              "fillmode": "overlay",
              "size": 10,
              "solidity": 0.2
             }
            },
            "type": "bar"
           }
          ],
          "barpolar": [
           {
            "marker": {
             "line": {
              "color": "#E5ECF6",
              "width": 0.5
             },
             "pattern": {
              "fillmode": "overlay",
              "size": 10,
              "solidity": 0.2
             }
            },
            "type": "barpolar"
           }
          ],
          "carpet": [
           {
            "aaxis": {
             "endlinecolor": "#2a3f5f",
             "gridcolor": "white",
             "linecolor": "white",
             "minorgridcolor": "white",
             "startlinecolor": "#2a3f5f"
            },
            "baxis": {
             "endlinecolor": "#2a3f5f",
             "gridcolor": "white",
             "linecolor": "white",
             "minorgridcolor": "white",
             "startlinecolor": "#2a3f5f"
            },
            "type": "carpet"
           }
          ],
          "choropleth": [
           {
            "colorbar": {
             "outlinewidth": 0,
             "ticks": ""
            },
            "type": "choropleth"
           }
          ],
          "contour": [
           {
            "colorbar": {
             "outlinewidth": 0,
             "ticks": ""
            },
            "colorscale": [
             [
              0,
              "#0d0887"
             ],
             [
              0.1111111111111111,
              "#46039f"
             ],
             [
              0.2222222222222222,
              "#7201a8"
             ],
             [
              0.3333333333333333,
              "#9c179e"
             ],
             [
              0.4444444444444444,
              "#bd3786"
             ],
             [
              0.5555555555555556,
              "#d8576b"
             ],
             [
              0.6666666666666666,
              "#ed7953"
             ],
             [
              0.7777777777777778,
              "#fb9f3a"
             ],
             [
              0.8888888888888888,
              "#fdca26"
             ],
             [
              1,
              "#f0f921"
             ]
            ],
            "type": "contour"
           }
          ],
          "contourcarpet": [
           {
            "colorbar": {
             "outlinewidth": 0,
             "ticks": ""
            },
            "type": "contourcarpet"
           }
          ],
          "heatmap": [
           {
            "colorbar": {
             "outlinewidth": 0,
             "ticks": ""
            },
            "colorscale": [
             [
              0,
              "#0d0887"
             ],
             [
              0.1111111111111111,
              "#46039f"
             ],
             [
              0.2222222222222222,
              "#7201a8"
             ],
             [
              0.3333333333333333,
              "#9c179e"
             ],
             [
              0.4444444444444444,
              "#bd3786"
             ],
             [
              0.5555555555555556,
              "#d8576b"
             ],
             [
              0.6666666666666666,
              "#ed7953"
             ],
             [
              0.7777777777777778,
              "#fb9f3a"
             ],
             [
              0.8888888888888888,
              "#fdca26"
             ],
             [
              1,
              "#f0f921"
             ]
            ],
            "type": "heatmap"
           }
          ],
          "heatmapgl": [
           {
            "colorbar": {
             "outlinewidth": 0,
             "ticks": ""
            },
            "colorscale": [
             [
              0,
              "#0d0887"
             ],
             [
              0.1111111111111111,
              "#46039f"
             ],
             [
              0.2222222222222222,
              "#7201a8"
             ],
             [
              0.3333333333333333,
              "#9c179e"
             ],
             [
              0.4444444444444444,
              "#bd3786"
             ],
             [
              0.5555555555555556,
              "#d8576b"
             ],
             [
              0.6666666666666666,
              "#ed7953"
             ],
             [
              0.7777777777777778,
              "#fb9f3a"
             ],
             [
              0.8888888888888888,
              "#fdca26"
             ],
             [
              1,
              "#f0f921"
             ]
            ],
            "type": "heatmapgl"
           }
          ],
          "histogram": [
           {
            "marker": {
             "pattern": {
              "fillmode": "overlay",
              "size": 10,
              "solidity": 0.2
             }
            },
            "type": "histogram"
           }
          ],
          "histogram2d": [
           {
            "colorbar": {
             "outlinewidth": 0,
             "ticks": ""
            },
            "colorscale": [
             [
              0,
              "#0d0887"
             ],
             [
              0.1111111111111111,
              "#46039f"
             ],
             [
              0.2222222222222222,
              "#7201a8"
             ],
             [
              0.3333333333333333,
              "#9c179e"
             ],
             [
              0.4444444444444444,
              "#bd3786"
             ],
             [
              0.5555555555555556,
              "#d8576b"
             ],
             [
              0.6666666666666666,
              "#ed7953"
             ],
             [
              0.7777777777777778,
              "#fb9f3a"
             ],
             [
              0.8888888888888888,
              "#fdca26"
             ],
             [
              1,
              "#f0f921"
             ]
            ],
            "type": "histogram2d"
           }
          ],
          "histogram2dcontour": [
           {
            "colorbar": {
             "outlinewidth": 0,
             "ticks": ""
            },
            "colorscale": [
             [
              0,
              "#0d0887"
             ],
             [
              0.1111111111111111,
              "#46039f"
             ],
             [
              0.2222222222222222,
              "#7201a8"
             ],
             [
              0.3333333333333333,
              "#9c179e"
             ],
             [
              0.4444444444444444,
              "#bd3786"
             ],
             [
              0.5555555555555556,
              "#d8576b"
             ],
             [
              0.6666666666666666,
              "#ed7953"
             ],
             [
              0.7777777777777778,
              "#fb9f3a"
             ],
             [
              0.8888888888888888,
              "#fdca26"
             ],
             [
              1,
              "#f0f921"
             ]
            ],
            "type": "histogram2dcontour"
           }
          ],
          "mesh3d": [
           {
            "colorbar": {
             "outlinewidth": 0,
             "ticks": ""
            },
            "type": "mesh3d"
           }
          ],
          "parcoords": [
           {
            "line": {
             "colorbar": {
              "outlinewidth": 0,
              "ticks": ""
             }
            },
            "type": "parcoords"
           }
          ],
          "pie": [
           {
            "automargin": true,
            "type": "pie"
           }
          ],
          "scatter": [
           {
            "fillpattern": {
             "fillmode": "overlay",
             "size": 10,
             "solidity": 0.2
            },
            "type": "scatter"
           }
          ],
          "scatter3d": [
           {
            "line": {
             "colorbar": {
              "outlinewidth": 0,
              "ticks": ""
             }
            },
            "marker": {
             "colorbar": {
              "outlinewidth": 0,
              "ticks": ""
             }
            },
            "type": "scatter3d"
           }
          ],
          "scattercarpet": [
           {
            "marker": {
             "colorbar": {
              "outlinewidth": 0,
              "ticks": ""
             }
            },
            "type": "scattercarpet"
           }
          ],
          "scattergeo": [
           {
            "marker": {
             "colorbar": {
              "outlinewidth": 0,
              "ticks": ""
             }
            },
            "type": "scattergeo"
           }
          ],
          "scattergl": [
           {
            "marker": {
             "colorbar": {
              "outlinewidth": 0,
              "ticks": ""
             }
            },
            "type": "scattergl"
           }
          ],
          "scattermapbox": [
           {
            "marker": {
             "colorbar": {
              "outlinewidth": 0,
              "ticks": ""
             }
            },
            "type": "scattermapbox"
           }
          ],
          "scatterpolar": [
           {
            "marker": {
             "colorbar": {
              "outlinewidth": 0,
              "ticks": ""
             }
            },
            "type": "scatterpolar"
           }
          ],
          "scatterpolargl": [
           {
            "marker": {
             "colorbar": {
              "outlinewidth": 0,
              "ticks": ""
             }
            },
            "type": "scatterpolargl"
           }
          ],
          "scatterternary": [
           {
            "marker": {
             "colorbar": {
              "outlinewidth": 0,
              "ticks": ""
             }
            },
            "type": "scatterternary"
           }
          ],
          "surface": [
           {
            "colorbar": {
             "outlinewidth": 0,
             "ticks": ""
            },
            "colorscale": [
             [
              0,
              "#0d0887"
             ],
             [
              0.1111111111111111,
              "#46039f"
             ],
             [
              0.2222222222222222,
              "#7201a8"
             ],
             [
              0.3333333333333333,
              "#9c179e"
             ],
             [
              0.4444444444444444,
              "#bd3786"
             ],
             [
              0.5555555555555556,
              "#d8576b"
             ],
             [
              0.6666666666666666,
              "#ed7953"
             ],
             [
              0.7777777777777778,
              "#fb9f3a"
             ],
             [
              0.8888888888888888,
              "#fdca26"
             ],
             [
              1,
              "#f0f921"
             ]
            ],
            "type": "surface"
           }
          ],
          "table": [
           {
            "cells": {
             "fill": {
              "color": "#EBF0F8"
             },
             "line": {
              "color": "white"
             }
            },
            "header": {
             "fill": {
              "color": "#C8D4E3"
             },
             "line": {
              "color": "white"
             }
            },
            "type": "table"
           }
          ]
         },
         "layout": {
          "annotationdefaults": {
           "arrowcolor": "#2a3f5f",
           "arrowhead": 0,
           "arrowwidth": 1
          },
          "autotypenumbers": "strict",
          "coloraxis": {
           "colorbar": {
            "outlinewidth": 0,
            "ticks": ""
           }
          },
          "colorscale": {
           "diverging": [
            [
             0,
             "#8e0152"
            ],
            [
             0.1,
             "#c51b7d"
            ],
            [
             0.2,
             "#de77ae"
            ],
            [
             0.3,
             "#f1b6da"
            ],
            [
             0.4,
             "#fde0ef"
            ],
            [
             0.5,
             "#f7f7f7"
            ],
            [
             0.6,
             "#e6f5d0"
            ],
            [
             0.7,
             "#b8e186"
            ],
            [
             0.8,
             "#7fbc41"
            ],
            [
             0.9,
             "#4d9221"
            ],
            [
             1,
             "#276419"
            ]
           ],
           "sequential": [
            [
             0,
             "#0d0887"
            ],
            [
             0.1111111111111111,
             "#46039f"
            ],
            [
             0.2222222222222222,
             "#7201a8"
            ],
            [
             0.3333333333333333,
             "#9c179e"
            ],
            [
             0.4444444444444444,
             "#bd3786"
            ],
            [
             0.5555555555555556,
             "#d8576b"
            ],
            [
             0.6666666666666666,
             "#ed7953"
            ],
            [
             0.7777777777777778,
             "#fb9f3a"
            ],
            [
             0.8888888888888888,
             "#fdca26"
            ],
            [
             1,
             "#f0f921"
            ]
           ],
           "sequentialminus": [
            [
             0,
             "#0d0887"
            ],
            [
             0.1111111111111111,
             "#46039f"
            ],
            [
             0.2222222222222222,
             "#7201a8"
            ],
            [
             0.3333333333333333,
             "#9c179e"
            ],
            [
             0.4444444444444444,
             "#bd3786"
            ],
            [
             0.5555555555555556,
             "#d8576b"
            ],
            [
             0.6666666666666666,
             "#ed7953"
            ],
            [
             0.7777777777777778,
             "#fb9f3a"
            ],
            [
             0.8888888888888888,
             "#fdca26"
            ],
            [
             1,
             "#f0f921"
            ]
           ]
          },
          "colorway": [
           "#636efa",
           "#EF553B",
           "#00cc96",
           "#ab63fa",
           "#FFA15A",
           "#19d3f3",
           "#FF6692",
           "#B6E880",
           "#FF97FF",
           "#FECB52"
          ],
          "font": {
           "color": "#2a3f5f"
          },
          "geo": {
           "bgcolor": "white",
           "lakecolor": "white",
           "landcolor": "#E5ECF6",
           "showlakes": true,
           "showland": true,
           "subunitcolor": "white"
          },
          "hoverlabel": {
           "align": "left"
          },
          "hovermode": "closest",
          "mapbox": {
           "style": "light"
          },
          "paper_bgcolor": "white",
          "plot_bgcolor": "#E5ECF6",
          "polar": {
           "angularaxis": {
            "gridcolor": "white",
            "linecolor": "white",
            "ticks": ""
           },
           "bgcolor": "#E5ECF6",
           "radialaxis": {
            "gridcolor": "white",
            "linecolor": "white",
            "ticks": ""
           }
          },
          "scene": {
           "xaxis": {
            "backgroundcolor": "#E5ECF6",
            "gridcolor": "white",
            "gridwidth": 2,
            "linecolor": "white",
            "showbackground": true,
            "ticks": "",
            "zerolinecolor": "white"
           },
           "yaxis": {
            "backgroundcolor": "#E5ECF6",
            "gridcolor": "white",
            "gridwidth": 2,
            "linecolor": "white",
            "showbackground": true,
            "ticks": "",
            "zerolinecolor": "white"
           },
           "zaxis": {
            "backgroundcolor": "#E5ECF6",
            "gridcolor": "white",
            "gridwidth": 2,
            "linecolor": "white",
            "showbackground": true,
            "ticks": "",
            "zerolinecolor": "white"
           }
          },
          "shapedefaults": {
           "line": {
            "color": "#2a3f5f"
           }
          },
          "ternary": {
           "aaxis": {
            "gridcolor": "white",
            "linecolor": "white",
            "ticks": ""
           },
           "baxis": {
            "gridcolor": "white",
            "linecolor": "white",
            "ticks": ""
           },
           "bgcolor": "#E5ECF6",
           "caxis": {
            "gridcolor": "white",
            "linecolor": "white",
            "ticks": ""
           }
          },
          "title": {
           "x": 0.05
          },
          "xaxis": {
           "automargin": true,
           "gridcolor": "white",
           "linecolor": "white",
           "ticks": "",
           "title": {
            "standoff": 15
           },
           "zerolinecolor": "white",
           "zerolinewidth": 2
          },
          "yaxis": {
           "automargin": true,
           "gridcolor": "white",
           "linecolor": "white",
           "ticks": "",
           "title": {
            "standoff": 15
           },
           "zerolinecolor": "white",
           "zerolinewidth": 2
          }
         }
        },
        "title": {
         "text": "Top 10 Customers by Average Order Value"
        },
        "xaxis": {
         "anchor": "y",
         "autorange": true,
         "domain": [
          0,
          1
         ],
         "range": [
          0,
          1843.465263157895
         ],
         "title": {
          "text": "Average Order Value"
         },
         "type": "linear"
        },
        "yaxis": {
         "anchor": "x",
         "autorange": true,
         "domain": [
          0,
          1
         ],
         "range": [
          -0.5,
          9.5
         ],
         "title": {
          "text": "Customer Name"
         },
         "type": "category"
        }
       }
      },
      "image/png": "[encoded data removed]",
      "text/html": [
       "<div>                            <div id=\"7c2eebc0-ab51-4b98-b20d-d829f4edee0f\" class=\"plotly-graph-div\" style=\"height:525px; width:100%;\"></div>            <script type=\"text/javascript\">                require([\"plotly\"], function(Plotly) {                    window.PLOTLYENV=window.PLOTLYENV || {};                                    if (document.getElementById(\"7c2eebc0-ab51-4b98-b20d-d829f4edee0f\")) {                    Plotly.newPlot(                        \"7c2eebc0-ab51-4b98-b20d-d829f4edee0f\",                        [{\"alignmentgroup\":\"True\",\"hovertemplate\":\"Average Order Value=%{text}<br>Customer Name=%{y}<extra></extra>\",\"legendgroup\":\"\",\"marker\":{\"color\":\"#636efa\",\"pattern\":{\"shape\":\"\"}},\"name\":\"\",\"offsetgroup\":\"\",\"orientation\":\"h\",\"showlegend\":false,\"text\":[1751.2920000000001,1669.5366666666666,1587.6848333333335,1558.5353333333333,1459.5620000000001,1170.2998181818182,1166.8503333333333,1102.6429090909094,1048.196,895.4019999999998],\"textposition\":\"outside\",\"x\":[1751.2920000000001,1669.5366666666666,1587.6848333333335,1558.5353333333333,1459.5620000000001,1170.2998181818182,1166.8503333333333,1102.6429090909094,1048.196,895.4019999999998],\"xaxis\":\"x\",\"y\":[\"Mitch Willingham\",\"Sean Miller\",\"Tamara Chand\",\"Grant Thornton\",\"Tom Ashbrook\",\"Hunter Lopez\",\"Bill Shonely\",\"Christopher Conant\",\"Stefanie Holloman\",\"Christopher Martinez\"],\"yaxis\":\"y\",\"type\":\"bar\",\"texttemplate\":\"%{text:.2s}\"}],                        {\"template\":{\"data\":{\"histogram2dcontour\":[{\"type\":\"histogram2dcontour\",\"colorbar\":{\"outlinewidth\":0,\"ticks\":\"\"},\"colorscale\":[[0.0,\"#0d0887\"],[0.1111111111111111,\"#46039f\"],[0.2222222222222222,\"#7201a8\"],[0.3333333333333333,\"#9c179e\"],[0.4444444444444444,\"#bd3786\"],[0.5555555555555556,\"#d8576b\"],[0.6666666666666666,\"#ed7953\"],[0.7777777777777778,\"#fb9f3a\"],[0.8888888888888888,\"#fdca26\"],[1.0,\"#f0f921\"]]}],\"choropleth\":[{\"type\":\"choropleth\",\"colorbar\":{\"outlinewidth\":0,\"ticks\":\"\"}}],\"histogram2d\":[{\"type\":\"histogram2d\",\"colorbar\":{\"outlinewidth\":0,\"ticks\":\"\"},\"colorscale\":[[0.0,\"#0d0887\"],[0.1111111111111111,\"#46039f\"],[0.2222222222222222,\"#7201a8\"],[0.3333333333333333,\"#9c179e\"],[0.4444444444444444,\"#bd3786\"],[0.5555555555555556,\"#d8576b\"],[0.6666666666666666,\"#ed7953\"],[0.7777777777777778,\"#fb9f3a\"],[0.8888888888888888,\"#fdca26\"],[1.0,\"#f0f921\"]]}],\"heatmap\":[{\"type\":\"heatmap\",\"colorbar\":{\"outlinewidth\":0,\"ticks\":\"\"},\"colorscale\":[[0.0,\"#0d0887\"],[0.1111111111111111,\"#46039f\"],[0.2222222222222222,\"#7201a8\"],[0.3333333333333333,\"#9c179e\"],[0.4444444444444444,\"#bd3786\"],[0.5555555555555556,\"#d8576b\"],[0.6666666666666666,\"#ed7953\"],[0.7777777777777778,\"#fb9f3a\"],[0.8888888888888888,\"#fdca26\"],[1.0,\"#f0f921\"]]}],\"heatmapgl\":[{\"type\":\"heatmapgl\",\"colorbar\":{\"outlinewidth\":0,\"ticks\":\"\"},\"colorscale\":[[0.0,\"#0d0887\"],[0.1111111111111111,\"#46039f\"],[0.2222222222222222,\"#7201a8\"],[0.3333333333333333,\"#9c179e\"],[0.4444444444444444,\"#bd3786\"],[0.5555555555555556,\"#d8576b\"],[0.6666666666666666,\"#ed7953\"],[0.7777777777777778,\"#fb9f3a\"],[0.8888888888888888,\"#fdca26\"],[1.0,\"#f0f921\"]]}],\"contourcarpet\":[{\"type\":\"contourcarpet\",\"colorbar\":{\"outlinewidth\":0,\"ticks\":\"\"}}],\"contour\":[{\"type\":\"contour\",\"colorbar\":{\"outlinewidth\":0,\"ticks\":\"\"},\"colorscale\":[[0.0,\"#0d0887\"],[0.1111111111111111,\"#46039f\"],[0.2222222222222222,\"#7201a8\"],[0.3333333333333333,\"#9c179e\"],[0.4444444444444444,\"#bd3786\"],[0.5555555555555556,\"#d8576b\"],[0.6666666666666666,\"#ed7953\"],[0.7777777777777778,\"#fb9f3a\"],[0.8888888888888888,\"#fdca26\"],[1.0,\"#f0f921\"]]}],\"surface\":[{\"type\":\"surface\",\"colorbar\":{\"outlinewidth\":0,\"ticks\":\"\"},\"colorscale\":[[0.0,\"#0d0887\"],[0.1111111111111111,\"#46039f\"],[0.2222222222222222,\"#7201a8\"],[0.3333333333333333,\"#9c179e\"],[0.4444444444444444,\"#bd3786\"],[0.5555555555555556,\"#d8576b\"],[0.6666666666666666,\"#ed7953\"],[0.7777777777777778,\"#fb9f3a\"],[0.8888888888888888,\"#fdca26\"],[1.0,\"#f0f921\"]]}],\"mesh3d\":[{\"type\":\"mesh3d\",\"colorbar\":{\"outlinewidth\":0,\"ticks\":\"\"}}],\"scatter\":[{\"fillpattern\":{\"fillmode\":\"overlay\",\"size\":10,\"solidity\":0.2},\"type\":\"scatter\"}],\"parcoords\":[{\"type\":\"parcoords\",\"line\":{\"colorbar\":{\"outlinewidth\":0,\"ticks\":\"\"}}}],\"scatterpolargl\":[{\"type\":\"scatterpolargl\",\"marker\":{\"colorbar\":{\"outlinewidth\":0,\"ticks\":\"\"}}}],\"bar\":[{\"error_x\":{\"color\":\"#2a3f5f\"},\"error_y\":{\"color\":\"#2a3f5f\"},\"marker\":{\"line\":{\"color\":\"#E5ECF6\",\"width\":0.5},\"pattern\":{\"fillmode\":\"overlay\",\"size\":10,\"solidity\":0.2}},\"type\":\"bar\"}],\"scattergeo\":[{\"type\":\"scattergeo\",\"marker\":{\"colorbar\":{\"outlinewidth\":0,\"ticks\":\"\"}}}],\"scatterpolar\":[{\"type\":\"scatterpolar\",\"marker\":{\"colorbar\":{\"outlinewidth\":0,\"ticks\":\"\"}}}],\"histogram\":[{\"marker\":{\"pattern\":{\"fillmode\":\"overlay\",\"size\":10,\"solidity\":0.2}},\"type\":\"histogram\"}],\"scattergl\":[{\"type\":\"scattergl\",\"marker\":{\"colorbar\":{\"outlinewidth\":0,\"ticks\":\"\"}}}],\"scatter3d\":[{\"type\":\"scatter3d\",\"line\":{\"colorbar\":{\"outlinewidth\":0,\"ticks\":\"\"}},\"marker\":{\"colorbar\":{\"outlinewidth\":0,\"ticks\":\"\"}}}],\"scattermapbox\":[{\"type\":\"scattermapbox\",\"marker\":{\"colorbar\":{\"outlinewidth\":0,\"ticks\":\"\"}}}],\"scatterternary\":[{\"type\":\"scatterternary\",\"marker\":{\"colorbar\":{\"outlinewidth\":0,\"ticks\":\"\"}}}],\"scattercarpet\":[{\"type\":\"scattercarpet\",\"marker\":{\"colorbar\":{\"outlinewidth\":0,\"ticks\":\"\"}}}],\"carpet\":[{\"aaxis\":{\"endlinecolor\":\"#2a3f5f\",\"gridcolor\":\"white\",\"linecolor\":\"white\",\"minorgridcolor\":\"white\",\"startlinecolor\":\"#2a3f5f\"},\"baxis\":{\"endlinecolor\":\"#2a3f5f\",\"gridcolor\":\"white\",\"linecolor\":\"white\",\"minorgridcolor\":\"white\",\"startlinecolor\":\"#2a3f5f\"},\"type\":\"carpet\"}],\"table\":[{\"cells\":{\"fill\":{\"color\":\"#EBF0F8\"},\"line\":{\"color\":\"white\"}},\"header\":{\"fill\":{\"color\":\"#C8D4E3\"},\"line\":{\"color\":\"white\"}},\"type\":\"table\"}],\"barpolar\":[{\"marker\":{\"line\":{\"color\":\"#E5ECF6\",\"width\":0.5},\"pattern\":{\"fillmode\":\"overlay\",\"size\":10,\"solidity\":0.2}},\"type\":\"barpolar\"}],\"pie\":[{\"automargin\":true,\"type\":\"pie\"}]},\"layout\":{\"autotypenumbers\":\"strict\",\"colorway\":[\"#636efa\",\"#EF553B\",\"#00cc96\",\"#ab63fa\",\"#FFA15A\",\"#19d3f3\",\"#FF6692\",\"#B6E880\",\"#FF97FF\",\"#FECB52\"],\"font\":{\"color\":\"#2a3f5f\"},\"hovermode\":\"closest\",\"hoverlabel\":{\"align\":\"left\"},\"paper_bgcolor\":\"white\",\"plot_bgcolor\":\"#E5ECF6\",\"polar\":{\"bgcolor\":\"#E5ECF6\",\"angularaxis\":{\"gridcolor\":\"white\",\"linecolor\":\"white\",\"ticks\":\"\"},\"radialaxis\":{\"gridcolor\":\"white\",\"linecolor\":\"white\",\"ticks\":\"\"}},\"ternary\":{\"bgcolor\":\"#E5ECF6\",\"aaxis\":{\"gridcolor\":\"white\",\"linecolor\":\"white\",\"ticks\":\"\"},\"baxis\":{\"gridcolor\":\"white\",\"linecolor\":\"white\",\"ticks\":\"\"},\"caxis\":{\"gridcolor\":\"white\",\"linecolor\":\"white\",\"ticks\":\"\"}},\"coloraxis\":{\"colorbar\":{\"outlinewidth\":0,\"ticks\":\"\"}},\"colorscale\":{\"sequential\":[[0.0,\"#0d0887\"],[0.1111111111111111,\"#46039f\"],[0.2222222222222222,\"#7201a8\"],[0.3333333333333333,\"#9c179e\"],[0.4444444444444444,\"#bd3786\"],[0.5555555555555556,\"#d8576b\"],[0.6666666666666666,\"#ed7953\"],[0.7777777777777778,\"#fb9f3a\"],[0.8888888888888888,\"#fdca26\"],[1.0,\"#f0f921\"]],\"sequentialminus\":[[0.0,\"#0d0887\"],[0.1111111111111111,\"#46039f\"],[0.2222222222222222,\"#7201a8\"],[0.3333333333333333,\"#9c179e\"],[0.4444444444444444,\"#bd3786\"],[0.5555555555555556,\"#d8576b\"],[0.6666666666666666,\"#ed7953\"],[0.7777777777777778,\"#fb9f3a\"],[0.8888888888888888,\"#fdca26\"],[1.0,\"#f0f921\"]],\"diverging\":[[0,\"#8e0152\"],[0.1,\"#c51b7d\"],[0.2,\"#de77ae\"],[0.3,\"#f1b6da\"],[0.4,\"#fde0ef\"],[0.5,\"#f7f7f7\"],[0.6,\"#e6f5d0\"],[0.7,\"#b8e186\"],[0.8,\"#7fbc41\"],[0.9,\"#4d9221\"],[1,\"#276419\"]]},\"xaxis\":{\"gridcolor\":\"white\",\"linecolor\":\"white\",\"ticks\":\"\",\"title\":{\"standoff\":15},\"zerolinecolor\":\"white\",\"automargin\":true,\"zerolinewidth\":2},\"yaxis\":{\"gridcolor\":\"white\",\"linecolor\":\"white\",\"ticks\":\"\",\"title\":{\"standoff\":15},\"zerolinecolor\":\"white\",\"automargin\":true,\"zerolinewidth\":2},\"scene\":{\"xaxis\":{\"backgroundcolor\":\"#E5ECF6\",\"gridcolor\":\"white\",\"linecolor\":\"white\",\"showbackground\":true,\"ticks\":\"\",\"zerolinecolor\":\"white\",\"gridwidth\":2},\"yaxis\":{\"backgroundcolor\":\"#E5ECF6\",\"gridcolor\":\"white\",\"linecolor\":\"white\",\"showbackground\":true,\"ticks\":\"\",\"zerolinecolor\":\"white\",\"gridwidth\":2},\"zaxis\":{\"backgroundcolor\":\"#E5ECF6\",\"gridcolor\":\"white\",\"linecolor\":\"white\",\"showbackground\":true,\"ticks\":\"\",\"zerolinecolor\":\"white\",\"gridwidth\":2}},\"shapedefaults\":{\"line\":{\"color\":\"#2a3f5f\"}},\"annotationdefaults\":{\"arrowcolor\":\"#2a3f5f\",\"arrowhead\":0,\"arrowwidth\":1},\"geo\":{\"bgcolor\":\"white\",\"landcolor\":\"#E5ECF6\",\"subunitcolor\":\"white\",\"showland\":true,\"showlakes\":true,\"lakecolor\":\"white\"},\"title\":{\"x\":0.05},\"mapbox\":{\"style\":\"light\"}}},\"xaxis\":{\"anchor\":\"y\",\"domain\":[0.0,1.0],\"title\":{\"text\":\"Average Order Value\"}},\"yaxis\":{\"anchor\":\"x\",\"domain\":[0.0,1.0],\"title\":{\"text\":\"Customer Name\"}},\"legend\":{\"tracegroupgap\":0},\"title\":{\"text\":\"Top 10 Customers by Average Order Value\"},\"barmode\":\"relative\"},                        {\"responsive\": true}                    ).then(function(){\n",
       "                            \n",
       "var gd = document.getElementById('7c2eebc0-ab51-4b98-b20d-d829f4edee0f');\n",
       "var x = new MutationObserver(function (mutations, observer) {{\n",
       "        var display = window.getComputedStyle(gd).display;\n",
       "        if (!display || display === 'none') {{\n",
       "            console.log([gd, 'removed!']);\n",
       "            Plotly.purge(gd);\n",
       "            observer.disconnect();\n",
       "        }}\n",
       "}});\n",
       "\n",
       "// Listen for the removal of the full notebook cells\n",
       "var notebookContainer = gd.closest('#notebook-container');\n",
       "if (notebookContainer) {{\n",
       "    x.observe(notebookContainer, {childList: true});\n",
       "}}\n",
       "\n",
       "// Listen for the clearing of the current output cell\n",
       "var outputEl = gd.closest('.output');\n",
       "if (outputEl) {{\n",
       "    x.observe(outputEl, {childList: true});\n",
       "}}\n",
       "\n",
       "                        })                };                });            </script>        </div>"
      ]
     },
     "metadata": {},
     "output_type": "display_data"
    }
   ],
   "source": [
    "#plotting AOV for top 10 customers\n",
    "fig = px.bar(aov.sort_values(by='Average Order Value', ascending=False).head(10), \n",
    "             x='Average Order Value', y='Customer Name', title='Top 10 Customers by Average Order Value', \n",
    "             text='Average Order Value', orientation='h')\n",
    "fig.update_traces(texttemplate='%{text:.2s}', textposition='outside')\n",
    "fig.update_layout(xaxis_title='Average Order Value', yaxis_title='Customer Name')\n",
    "fig.show()"
   ]
  }
 ],
 "metadata": {
  "kernelspec": {
   "display_name": "Python 3 (ipykernel)",
   "language": "python",
   "name": "python3"
  },
  "language_info": {
   "codemirror_mode": {
    "name": "ipython",
    "version": 3
   },
   "file_extension": ".py",
   "mimetype": "text/x-python",
   "name": "python",
   "nbconvert_exporter": "python",
   "pygments_lexer": "ipython3",
   "version": "3.11.7"
  }
 },
 "nbformat": 4,
 "nbformat_minor": 5
}
